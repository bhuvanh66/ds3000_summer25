{
 "cells": [
  {
   "cell_type": "markdown",
   "id": "84132203-da18-4520-bb83-17d4fa7a4646",
   "metadata": {},
   "source": [
    "# DS 3000 Quiz 1"
   ]
  },
  {
   "cell_type": "markdown",
   "id": "be9f744d-04d6-4b16-a600-631b87f0276c",
   "metadata": {},
   "source": [
    "Due: Monday May 20 in-class\n",
    "\n",
    "Time Limit: You have 2 hours to complete the assignment (this includes the handwritten and coding parts together)\n",
    "\n",
    "## Coding Part\n",
    "\n",
    "This is the second part of Quiz 1, worth 50 points; the first part is Handwritten (worth 50 points).\n",
    "\n",
    "- There is **no collaboration allowed** on this assignment; it serves as an individual assessment. Under no circumstances may one student view or share their ungraded homework or quiz with another student [(see also)](http://www.northeastern.edu/osccr/academic-integrity)\n",
    "\n",
    "### Submission Instructions\n",
    "Submit this `ipynb` file to Gradescope (this can also be done via the assignment on Canvas).  To ensure that your submitted `ipynb` file represents your latest code, make sure to give a fresh `Kernel > Restart & Run All` just before uploading the `ipynb` file to Gradescope. The handwritten part will be submitted by hand; you do not need to upload it."
   ]
  },
  {
   "cell_type": "code",
   "execution_count": 1,
   "id": "e9feb34f-bfd4-42da-81e5-1c67bd0f1b8f",
   "metadata": {},
   "outputs": [],
   "source": [
    "# the following modules may be necessary to complete the quiz\n",
    "import warnings\n",
    "warnings.simplefilter(action='ignore', category=FutureWarning)\n",
    "import pandas as pd\n",
    "import plotly.express as px"
   ]
  },
  {
   "cell_type": "markdown",
   "id": "daf0bc63-34c7-43f2-91b5-3b3e9d15ad19",
   "metadata": {},
   "source": [
    "## Summarizing Data Numerically\n",
    "\n",
    "### Part 1: Ideation Using Data (10 points)\n",
    "\n",
    "On Canvas is the `'GDP_Energy_WBdat.csv'` data set. Read it in using `pandas` then print the `.head()`. The data set contains the GDP (\\\\$ per capita), Total Fossil Fuel Energy Consumption (as a \\% of total energy), CO$^2$ emissions (kt), and Urban Population of the current 27 European Union member states from 1990 to 2015 (with a few years/countries missing).\n",
    "\n",
    "After you read in the data, in a markdown cell, discuss which features you think (intuitively) would be related to each other, and what trends you might expect to see over time. Come up with **at least 1** question you think would be interesting to answer with these data and describe why you think it is interesting."
   ]
  },
  {
   "cell_type": "code",
   "execution_count": 3,
   "id": "eabab25a-0615-4984-971b-2aab112adfb3",
   "metadata": {},
   "outputs": [
    {
     "data": {
      "text/html": [
       "<div>\n",
       "<style scoped>\n",
       "    .dataframe tbody tr th:only-of-type {\n",
       "        vertical-align: middle;\n",
       "    }\n",
       "\n",
       "    .dataframe tbody tr th {\n",
       "        vertical-align: top;\n",
       "    }\n",
       "\n",
       "    .dataframe thead th {\n",
       "        text-align: right;\n",
       "    }\n",
       "</style>\n",
       "<table border=\"1\" class=\"dataframe\">\n",
       "  <thead>\n",
       "    <tr style=\"text-align: right;\">\n",
       "      <th></th>\n",
       "      <th>country</th>\n",
       "      <th>date</th>\n",
       "      <th>GDP</th>\n",
       "      <th>Fossil_Fuels</th>\n",
       "      <th>CO2_emit</th>\n",
       "      <th>Urban_pop</th>\n",
       "    </tr>\n",
       "  </thead>\n",
       "  <tbody>\n",
       "    <tr>\n",
       "      <th>0</th>\n",
       "      <td>Austria</td>\n",
       "      <td>1990</td>\n",
       "      <td>21680.989623</td>\n",
       "      <td>79.132345</td>\n",
       "      <td>58275.7</td>\n",
       "      <td>4833974.0</td>\n",
       "    </tr>\n",
       "    <tr>\n",
       "      <th>1</th>\n",
       "      <td>Austria</td>\n",
       "      <td>1991</td>\n",
       "      <td>22410.911767</td>\n",
       "      <td>79.127007</td>\n",
       "      <td>62423.2</td>\n",
       "      <td>4861464.0</td>\n",
       "    </tr>\n",
       "    <tr>\n",
       "      <th>2</th>\n",
       "      <td>Austria</td>\n",
       "      <td>1992</td>\n",
       "      <td>24880.164118</td>\n",
       "      <td>77.237211</td>\n",
       "      <td>57668.0</td>\n",
       "      <td>4893935.0</td>\n",
       "    </tr>\n",
       "    <tr>\n",
       "      <th>3</th>\n",
       "      <td>Austria</td>\n",
       "      <td>1993</td>\n",
       "      <td>24081.527793</td>\n",
       "      <td>77.011142</td>\n",
       "      <td>57804.0</td>\n",
       "      <td>4912877.0</td>\n",
       "    </tr>\n",
       "    <tr>\n",
       "      <th>4</th>\n",
       "      <td>Austria</td>\n",
       "      <td>1994</td>\n",
       "      <td>25646.700659</td>\n",
       "      <td>77.585708</td>\n",
       "      <td>58288.2</td>\n",
       "      <td>4910076.0</td>\n",
       "    </tr>\n",
       "  </tbody>\n",
       "</table>\n",
       "</div>"
      ],
      "text/plain": [
       "   country  date           GDP  Fossil_Fuels  CO2_emit  Urban_pop\n",
       "0  Austria  1990  21680.989623     79.132345   58275.7  4833974.0\n",
       "1  Austria  1991  22410.911767     79.127007   62423.2  4861464.0\n",
       "2  Austria  1992  24880.164118     77.237211   57668.0  4893935.0\n",
       "3  Austria  1993  24081.527793     77.011142   57804.0  4912877.0\n",
       "4  Austria  1994  25646.700659     77.585708   58288.2  4910076.0"
      ]
     },
     "execution_count": 3,
     "metadata": {},
     "output_type": "execute_result"
    }
   ],
   "source": [
    "url = 'GDP_Energy_WBdat.csv'\n",
    "gdp = pd.read_csv(url, encoding='unicode_escape')\n",
    "gdp.head()"
   ]
  },
  {
   "cell_type": "markdown",
   "id": "d15c0859-5ffd-4c96-8acf-136dfee5be1d",
   "metadata": {},
   "source": [
    "Some features that I think would be related to each other are that the greater a countries GDP is, the greater its fossil fuels and CO2 emitted would be. I also think this would apply for urban population, so for countries with a greater urban population, their fossil fuels and CO2 emitted would also be higher. I think over time the GDP, urban population, fossil fuels and co2 emitted will all increase as countries in Europe become more developed. One question that I think would be interesting to answer is whether or not European countries are emitting more CO2 today than in the past and how CO2 emissions in general have changed in Europe. This question is interesting because Europe is a leading sector of the world and its CO2 emissions set a precedent for the rest of the world to follow, so I want to know how general CO2 emissions have changed over time and whether or not Europe has found ways to limit its carbon emissions."
   ]
  },
  {
   "cell_type": "markdown",
   "id": "f7352249-e029-4e35-97a4-0504c623eb08",
   "metadata": {},
   "source": [
    "### Part 2: Manipulating Data (10 points)\n",
    "\n",
    "Create a new column for the data called `'CO2_Upop'` which is the ratio of CO$^2$ emissions to Urban population. Print the `.head()` to make sure it worked. Then discuss in one or two sentences, in a markdown cell, why we may want to do this.\n",
    "\n",
    "**Hint:** you may help your intuition by looking at the correlation matrix in **Part 3** and thinking critically about the data being collected."
   ]
  },
  {
   "cell_type": "code",
   "execution_count": 4,
   "id": "90f1e157-ff7f-4d63-81bb-3fb422ba7fb5",
   "metadata": {},
   "outputs": [
    {
     "data": {
      "text/html": [
       "<div>\n",
       "<style scoped>\n",
       "    .dataframe tbody tr th:only-of-type {\n",
       "        vertical-align: middle;\n",
       "    }\n",
       "\n",
       "    .dataframe tbody tr th {\n",
       "        vertical-align: top;\n",
       "    }\n",
       "\n",
       "    .dataframe thead th {\n",
       "        text-align: right;\n",
       "    }\n",
       "</style>\n",
       "<table border=\"1\" class=\"dataframe\">\n",
       "  <thead>\n",
       "    <tr style=\"text-align: right;\">\n",
       "      <th></th>\n",
       "      <th>country</th>\n",
       "      <th>date</th>\n",
       "      <th>GDP</th>\n",
       "      <th>Fossil_Fuels</th>\n",
       "      <th>CO2_emit</th>\n",
       "      <th>Urban_pop</th>\n",
       "      <th>CO2_Upop</th>\n",
       "    </tr>\n",
       "  </thead>\n",
       "  <tbody>\n",
       "    <tr>\n",
       "      <th>0</th>\n",
       "      <td>Austria</td>\n",
       "      <td>1990</td>\n",
       "      <td>21680.989623</td>\n",
       "      <td>79.132345</td>\n",
       "      <td>58275.7</td>\n",
       "      <td>4833974.0</td>\n",
       "      <td>0.012055</td>\n",
       "    </tr>\n",
       "    <tr>\n",
       "      <th>1</th>\n",
       "      <td>Austria</td>\n",
       "      <td>1991</td>\n",
       "      <td>22410.911767</td>\n",
       "      <td>79.127007</td>\n",
       "      <td>62423.2</td>\n",
       "      <td>4861464.0</td>\n",
       "      <td>0.012840</td>\n",
       "    </tr>\n",
       "    <tr>\n",
       "      <th>2</th>\n",
       "      <td>Austria</td>\n",
       "      <td>1992</td>\n",
       "      <td>24880.164118</td>\n",
       "      <td>77.237211</td>\n",
       "      <td>57668.0</td>\n",
       "      <td>4893935.0</td>\n",
       "      <td>0.011784</td>\n",
       "    </tr>\n",
       "    <tr>\n",
       "      <th>3</th>\n",
       "      <td>Austria</td>\n",
       "      <td>1993</td>\n",
       "      <td>24081.527793</td>\n",
       "      <td>77.011142</td>\n",
       "      <td>57804.0</td>\n",
       "      <td>4912877.0</td>\n",
       "      <td>0.011766</td>\n",
       "    </tr>\n",
       "    <tr>\n",
       "      <th>4</th>\n",
       "      <td>Austria</td>\n",
       "      <td>1994</td>\n",
       "      <td>25646.700659</td>\n",
       "      <td>77.585708</td>\n",
       "      <td>58288.2</td>\n",
       "      <td>4910076.0</td>\n",
       "      <td>0.011871</td>\n",
       "    </tr>\n",
       "  </tbody>\n",
       "</table>\n",
       "</div>"
      ],
      "text/plain": [
       "   country  date           GDP  Fossil_Fuels  CO2_emit  Urban_pop  CO2_Upop\n",
       "0  Austria  1990  21680.989623     79.132345   58275.7  4833974.0  0.012055\n",
       "1  Austria  1991  22410.911767     79.127007   62423.2  4861464.0  0.012840\n",
       "2  Austria  1992  24880.164118     77.237211   57668.0  4893935.0  0.011784\n",
       "3  Austria  1993  24081.527793     77.011142   57804.0  4912877.0  0.011766\n",
       "4  Austria  1994  25646.700659     77.585708   58288.2  4910076.0  0.011871"
      ]
     },
     "execution_count": 4,
     "metadata": {},
     "output_type": "execute_result"
    }
   ],
   "source": [
    "gdp['CO2_Upop'] = gdp['CO2_emit'] / gdp['Urban_pop']\n",
    "gdp.head()"
   ]
  },
  {
   "cell_type": "markdown",
   "id": "28c7b9f9-5367-4021-9aef-50adf3241a14",
   "metadata": {},
   "source": [
    "**We would want to collect the ratio of CO2 emissions to Urban population because countries with a larger population will naturally have higher CO2 emissions because they need to support more people, will need more infrastructure, and are more developed. By collecting the ratio, we are calculating the rate of CO2 emissions per urban person which is a much more standardized way of comparing emissions of countries.**"
   ]
  },
  {
   "cell_type": "markdown",
   "id": "85a51759-0bb5-44b2-b319-b4694f891608",
   "metadata": {},
   "source": [
    "### Part 3: EDA (20 points)\n",
    "\n",
    "Use the `.describe()` and `.corr()` functions to find the mean, median, standard deviation, and correlation matrix for the **numeric features, not including date**.\n",
    "\n",
    "Then, use the `px.scatter()` function to make a scatter plot of `CO2_Upop` (on the $x$-axis) and `GDP` (on the $y$-axis), with `color='country'`."
   ]
  },
  {
   "cell_type": "code",
   "execution_count": 24,
   "id": "172940ac-7296-468d-8918-a4d73add5325",
   "metadata": {},
   "outputs": [
    {
     "data": {
      "text/html": [
       "<div>\n",
       "<style scoped>\n",
       "    .dataframe tbody tr th:only-of-type {\n",
       "        vertical-align: middle;\n",
       "    }\n",
       "\n",
       "    .dataframe tbody tr th {\n",
       "        vertical-align: top;\n",
       "    }\n",
       "\n",
       "    .dataframe thead th {\n",
       "        text-align: right;\n",
       "    }\n",
       "</style>\n",
       "<table border=\"1\" class=\"dataframe\">\n",
       "  <thead>\n",
       "    <tr style=\"text-align: right;\">\n",
       "      <th></th>\n",
       "      <th>GDP</th>\n",
       "      <th>Fossil_Fuels</th>\n",
       "      <th>CO2_emit</th>\n",
       "      <th>Urban_pop</th>\n",
       "      <th>CO2_Upop</th>\n",
       "    </tr>\n",
       "  </thead>\n",
       "  <tbody>\n",
       "    <tr>\n",
       "      <th>count</th>\n",
       "      <td>665.000000</td>\n",
       "      <td>665.000000</td>\n",
       "      <td>665.000000</td>\n",
       "      <td>6.650000e+02</td>\n",
       "      <td>665.000000</td>\n",
       "    </tr>\n",
       "    <tr>\n",
       "      <th>mean</th>\n",
       "      <td>23739.222110</td>\n",
       "      <td>76.340941</td>\n",
       "      <td>129109.666301</td>\n",
       "      <td>1.199309e+07</td>\n",
       "      <td>0.011528</td>\n",
       "    </tr>\n",
       "    <tr>\n",
       "      <th>std</th>\n",
       "      <td>19105.749817</td>\n",
       "      <td>18.134726</td>\n",
       "      <td>181266.608452</td>\n",
       "      <td>1.577776e+07</td>\n",
       "      <td>0.004700</td>\n",
       "    </tr>\n",
       "    <tr>\n",
       "      <th>min</th>\n",
       "      <td>1102.103785</td>\n",
       "      <td>13.056215</td>\n",
       "      <td>2169.100000</td>\n",
       "      <td>3.090960e+05</td>\n",
       "      <td>0.004300</td>\n",
       "    </tr>\n",
       "    <tr>\n",
       "      <th>25%</th>\n",
       "      <td>10273.451812</td>\n",
       "      <td>70.028439</td>\n",
       "      <td>20276.700000</td>\n",
       "      <td>2.345367e+06</td>\n",
       "      <td>0.008153</td>\n",
       "    </tr>\n",
       "    <tr>\n",
       "      <th>50%</th>\n",
       "      <td>20664.552270</td>\n",
       "      <td>79.847800</td>\n",
       "      <td>56970.300000</td>\n",
       "      <td>5.671407e+06</td>\n",
       "      <td>0.011004</td>\n",
       "    </tr>\n",
       "    <tr>\n",
       "      <th>75%</th>\n",
       "      <td>31822.803848</td>\n",
       "      <td>90.087964</td>\n",
       "      <td>124716.700000</td>\n",
       "      <td>1.129733e+07</td>\n",
       "      <td>0.013843</td>\n",
       "    </tr>\n",
       "    <tr>\n",
       "      <th>max</th>\n",
       "      <td>123678.702143</td>\n",
       "      <td>100.000000</td>\n",
       "      <td>955307.700000</td>\n",
       "      <td>6.306206e+07</td>\n",
       "      <td>0.037434</td>\n",
       "    </tr>\n",
       "  </tbody>\n",
       "</table>\n",
       "</div>"
      ],
      "text/plain": [
       "                 GDP  Fossil_Fuels       CO2_emit     Urban_pop    CO2_Upop\n",
       "count     665.000000    665.000000     665.000000  6.650000e+02  665.000000\n",
       "mean    23739.222110     76.340941  129109.666301  1.199309e+07    0.011528\n",
       "std     19105.749817     18.134726  181266.608452  1.577776e+07    0.004700\n",
       "min      1102.103785     13.056215    2169.100000  3.090960e+05    0.004300\n",
       "25%     10273.451812     70.028439   20276.700000  2.345367e+06    0.008153\n",
       "50%     20664.552270     79.847800   56970.300000  5.671407e+06    0.011004\n",
       "75%     31822.803848     90.087964  124716.700000  1.129733e+07    0.013843\n",
       "max    123678.702143    100.000000  955307.700000  6.306206e+07    0.037434"
      ]
     },
     "execution_count": 24,
     "metadata": {},
     "output_type": "execute_result"
    }
   ],
   "source": [
    "gdp.iloc[:,2:7].describe()"
   ]
  },
  {
   "cell_type": "code",
   "execution_count": 17,
   "id": "c8437d6c-3966-4b5a-b82e-ba794c9eccab",
   "metadata": {},
   "outputs": [
    {
     "data": {
      "text/html": [
       "<div>\n",
       "<style scoped>\n",
       "    .dataframe tbody tr th:only-of-type {\n",
       "        vertical-align: middle;\n",
       "    }\n",
       "\n",
       "    .dataframe tbody tr th {\n",
       "        vertical-align: top;\n",
       "    }\n",
       "\n",
       "    .dataframe thead th {\n",
       "        text-align: right;\n",
       "    }\n",
       "</style>\n",
       "<table border=\"1\" class=\"dataframe\">\n",
       "  <thead>\n",
       "    <tr style=\"text-align: right;\">\n",
       "      <th></th>\n",
       "      <th>GDP</th>\n",
       "      <th>Fossil_Fuels</th>\n",
       "      <th>CO2_emit</th>\n",
       "      <th>Urban_pop</th>\n",
       "      <th>CO2_Upop</th>\n",
       "    </tr>\n",
       "  </thead>\n",
       "  <tbody>\n",
       "    <tr>\n",
       "      <th>GDP</th>\n",
       "      <td>1.000000</td>\n",
       "      <td>-0.052819</td>\n",
       "      <td>0.076103</td>\n",
       "      <td>0.094145</td>\n",
       "      <td>0.339518</td>\n",
       "    </tr>\n",
       "    <tr>\n",
       "      <th>Fossil_Fuels</th>\n",
       "      <td>-0.052819</td>\n",
       "      <td>1.000000</td>\n",
       "      <td>0.144498</td>\n",
       "      <td>0.046085</td>\n",
       "      <td>0.157548</td>\n",
       "    </tr>\n",
       "    <tr>\n",
       "      <th>CO2_emit</th>\n",
       "      <td>0.076103</td>\n",
       "      <td>0.144498</td>\n",
       "      <td>1.000000</td>\n",
       "      <td>0.950714</td>\n",
       "      <td>0.007623</td>\n",
       "    </tr>\n",
       "    <tr>\n",
       "      <th>Urban_pop</th>\n",
       "      <td>0.094145</td>\n",
       "      <td>0.046085</td>\n",
       "      <td>0.950714</td>\n",
       "      <td>1.000000</td>\n",
       "      <td>-0.123480</td>\n",
       "    </tr>\n",
       "    <tr>\n",
       "      <th>CO2_Upop</th>\n",
       "      <td>0.339518</td>\n",
       "      <td>0.157548</td>\n",
       "      <td>0.007623</td>\n",
       "      <td>-0.123480</td>\n",
       "      <td>1.000000</td>\n",
       "    </tr>\n",
       "  </tbody>\n",
       "</table>\n",
       "</div>"
      ],
      "text/plain": [
       "                   GDP  Fossil_Fuels  CO2_emit  Urban_pop  CO2_Upop\n",
       "GDP           1.000000     -0.052819  0.076103   0.094145  0.339518\n",
       "Fossil_Fuels -0.052819      1.000000  0.144498   0.046085  0.157548\n",
       "CO2_emit      0.076103      0.144498  1.000000   0.950714  0.007623\n",
       "Urban_pop     0.094145      0.046085  0.950714   1.000000 -0.123480\n",
       "CO2_Upop      0.339518      0.157548  0.007623  -0.123480  1.000000"
      ]
     },
     "execution_count": 17,
     "metadata": {},
     "output_type": "execute_result"
    }
   ],
   "source": [
    "gdp.iloc[:,2:7].corr()"
   ]
  },
  {
   "cell_type": "code",
   "execution_count": 18,
   "id": "a3ef5d46-7d85-41a8-9a84-3ba88b4eec5b",
   "metadata": {},
   "outputs": [
    {
     "data": {
      "application/vnd.plotly.v1+json": {
       "config": {
        "plotlyServerURL": "https://plot.ly"
       },
       "data": [
        {
         "hovertemplate": "country=Austria<br>CO2_Upop=%{x}<br>GDP=%{y}<extra></extra>",
         "legendgroup": "Austria",
         "marker": {
          "color": "#636efa",
          "symbol": "circle"
         },
         "mode": "markers",
         "name": "Austria",
         "orientation": "v",
         "showlegend": true,
         "type": "scatter",
         "x": [
          0.012055443409501168,
          0.012840411859472784,
          0.011783564759237709,
          0.011765814613311101,
          0.011871140080112813,
          0.012497679143089586,
          0.013298496517445352,
          0.013203720900780844,
          0.013341991011555834,
          0.013042364917986604,
          0.01317134065394639,
          0.014089925702292996,
          0.014389133532906434,
          0.015443059500072062,
          0.015696804939676658,
          0.015755709870133142,
          0.0153114559875499,
          0.01474491715503893,
          0.014664180852709095,
          0.013385621604931473,
          0.014574513957891975,
          0.014245276385610593,
          0.013515760395409474,
          0.01352382182525636,
          0.012621997865501364,
          0.012681034631387207
         ],
         "xaxis": "x",
         "y": [
          21680.989623313,
          22410.9117666654,
          24880.1641180361,
          24081.5277928004,
          25646.7006591684,
          30325.8495818396,
          29809.0767730821,
          26705.4785993891,
          27361.8751106437,
          27183.4759263956,
          24625.6007227434,
          24558.7636778868,
          26527.5930910347,
          32294.0488606559,
          36889.2335135194,
          38417.4577857677,
          40669.3269586152,
          46915.3374004507,
          51919.9835754226,
          48153.3240199631,
          46903.7615854343,
          51442.2762464407,
          48564.9173350875,
          50731.1272541847,
          51786.3771747905,
          44195.8175947748
         ],
         "yaxis": "y"
        },
        {
         "hovertemplate": "country=Belgium<br>CO2_Upop=%{x}<br>GDP=%{y}<extra></extra>",
         "legendgroup": "Belgium",
         "marker": {
          "color": "#EF553B",
          "symbol": "circle"
         },
         "mode": "markers",
         "name": "Belgium",
         "orientation": "v",
         "showlegend": true,
         "type": "scatter",
         "x": [
          0.011379307724410153,
          0.01180881426283003,
          0.011582972048494318,
          0.01130032048002524,
          0.011746461894287628,
          0.011678645135392069,
          0.012143007816054095,
          0.011819403388909888,
          0.012066152613396035,
          0.01163724676550335,
          0.011778180378162481,
          0.011837405745222667,
          0.011032392179585722,
          0.011440878675204016,
          0.011173095808891436,
          0.010871536896093631,
          0.010514371111096195,
          0.010028947195955751,
          0.010213843378814588,
          0.009480663761478903,
          0.010044767454264704,
          0.008947212685861666,
          0.008776017007542124,
          0.008847566494478484,
          0.008240115475275431,
          0.008617880343627739
         ],
         "xaxis": "x",
         "y": [
          20600.3752789827,
          21041.6606519648,
          23372.619171015,
          22283.9360213551,
          24208.5547931447,
          28413.8264387368,
          27489.5551770488,
          24820.9380503896,
          25338.4432934904,
          25252.8019066564,
          23098.8865077401,
          23015.0712632462,
          25006.191397109,
          30655.2092679024,
          35429.4077933344,
          36809.7013403619,
          38705.1067959147,
          44319.165448813,
          48303.397956286,
          44760.2912443709,
          44184.946353964,
          47410.5669277464,
          44670.5606845101,
          46757.9518559598,
          47764.0715120833,
          41008.296719472
         ],
         "yaxis": "y"
        },
        {
         "hovertemplate": "country=Bulgaria<br>CO2_Upop=%{x}<br>GDP=%{y}<extra></extra>",
         "legendgroup": "Bulgaria",
         "marker": {
          "color": "#00cc96",
          "symbol": "circle"
         },
         "mode": "markers",
         "name": "Bulgaria",
         "orientation": "v",
         "showlegend": true,
         "type": "scatter",
         "x": [
          0.01271928043478599,
          0.01021425336883792,
          0.00966772789596507,
          0.00980385694711879,
          0.009418262249622517,
          0.009632279125276423,
          0.009723705789049193,
          0.009344171560954804,
          0.00893075140213372,
          0.007860169078227498,
          0.007713592437389049,
          0.008337348362328491,
          0.008001878610488946,
          0.008822099780226496,
          0.008720959625313343,
          0.008876344822955344,
          0.009079900295962744,
          0.009780043977816972,
          0.009324692033016283,
          0.008009303289283952,
          0.008367161221476946,
          0.009299474415654147,
          0.008444778477688713,
          0.007446237275814199,
          0.007904215071394566
         ],
         "xaxis": "x",
         "y": [
          2366.52982128614,
          1267.73437541485,
          1211.98087810931,
          1278.52511370319,
          1148.4943993817,
          2259.25922555221,
          1470.19259250682,
          1361.40938439884,
          1820.44866449942,
          1659.71861105493,
          1621.26210738992,
          1770.90704918691,
          2092.98288625558,
          2719.49436859287,
          3389.68743360274,
          3899.82596332878,
          4523.1465578805,
          5888.77685220636,
          7271.30338858025,
          6988.27316296465,
          6863.66706774052,
          7857.16706984441,
          7430.7373804242,
          7687.71368243317,
          7912.27484371138
         ],
         "yaxis": "y"
        },
        {
         "hovertemplate": "country=Croatia<br>CO2_Upop=%{x}<br>GDP=%{y}<extra></extra>",
         "legendgroup": "Croatia",
         "marker": {
          "color": "#ab63fa",
          "symbol": "circle"
         },
         "mode": "markers",
         "name": "Croatia",
         "orientation": "v",
         "showlegend": true,
         "type": "scatter",
         "x": [
          0.006397908338698425,
          0.006374896254982477,
          0.007137102051243669,
          0.007717923286071164,
          0.00771203664400438,
          0.007554232270106613,
          0.008322876985658256,
          0.008758833693304536,
          0.009301994203876826,
          0.009049507210362741,
          0.009160399905170959,
          0.009195269683151194,
          0.00970972292563563,
          0.009196173435590638,
          0.008577698549818569,
          0.008212801000192897,
          0.008034876522617461,
          0.007346909827162078,
          0.007175427747551961,
          0.006850125346273828
         ],
         "xaxis": "x",
         "y": [
          4930.33530861222,
          5298.88508010941,
          5330.32889310394,
          5711.48570357941,
          5267.51220732922,
          4952.37775298931,
          5364.01024143422,
          6219.47321325884,
          8192.32263343511,
          9723.38102385632,
          10446.3614889222,
          11505.399839938,
          13762.4562630334,
          15898.7998960876,
          14421.1714758536,
          13693.5000292691,
          14655.8743881973,
          13439.6645555189,
          13979.1855602956,
          14001.1603438958
         ],
         "yaxis": "y"
        },
        {
         "hovertemplate": "country=Cyprus<br>CO2_Upop=%{x}<br>GDP=%{y}<extra></extra>",
         "legendgroup": "Cyprus",
         "marker": {
          "color": "#FFA15A",
          "symbol": "circle"
         },
         "mode": "markers",
         "name": "Cyprus",
         "orientation": "v",
         "showlegend": true,
         "type": "scatter",
         "x": [
          0.00871974763023499,
          0.009516217056920353,
          0.0100024642456214,
          0.0102433780038289,
          0.010423466967972323,
          0.009966392397728589,
          0.01035465178309461,
          0.010288339153421885,
          0.010564624012862948,
          0.010763034971914073,
          0.010949756200975196,
          0.010538142950155538,
          0.010624596121581485,
          0.011423800982836812,
          0.01116229146397812,
          0.011159621515266652,
          0.011125467130818882,
          0.011378965536135007,
          0.011457414049490869,
          0.011004369250898184,
          0.010350222902475907,
          0.009891210418510165,
          0.009125465509550578,
          0.008204174521709275,
          0.008633985337511028
         ],
         "xaxis": "x",
         "y": [
          9641.5751953125,
          9696.099609375,
          11310.072265625,
          10526.1416015625,
          11617.6923828125,
          15261.41015625,
          15139.2265625,
          14234.244140625,
          15092.826171875,
          15287.9189453125,
          14388.34765625,
          14821.447265625,
          16093.21484375,
          20252.23828125,
          23792.62109375,
          24959.259765625,
          26729.32421875,
          31244.92578125,
          35397.36328125,
          32109.2421875,
          31023.267578125,
          32395.75390625,
          28910.74609375,
          27727.53515625,
          27162.322265625
         ],
         "yaxis": "y"
        },
        {
         "hovertemplate": "country=Czechia<br>CO2_Upop=%{x}<br>GDP=%{y}<extra></extra>",
         "legendgroup": "Czechia",
         "marker": {
          "color": "#19d3f3",
          "symbol": "circle"
         },
         "mode": "markers",
         "name": "Czechia",
         "orientation": "v",
         "showlegend": true,
         "type": "scatter",
         "x": [
          0.019703361101283328,
          0.0180384786700502,
          0.017674329455398933,
          0.01692896558364724,
          0.01620366188105293,
          0.016153318170125178,
          0.01671616232529069,
          0.016440359014819,
          0.01566881114123769,
          0.014740756746204639,
          0.016437092191963747,
          0.01647401911119926,
          0.01597210134885378,
          0.01641240038983357,
          0.01647776328600033,
          0.016218617688748254,
          0.016277596389627592,
          0.016446686337569398,
          0.01557640340523528,
          0.014788117178677427,
          0.014879078392639987,
          0.014478839069449677,
          0.013949320595785134,
          0.013354723841830491,
          0.012941691143656182,
          0.013055676862657647
         ],
         "xaxis": "x",
         "y": [
          3941.50309406941,
          2896.60913065504,
          3372.86542951101,
          3956.1783495613,
          4630.55121674353,
          5824.12129119574,
          6532.83705470198,
          6034.48843731935,
          6489.7036188033,
          6337.41912037126,
          6029.03819275358,
          6637.04165713981,
          8060.86870292424,
          9818.56849307488,
          11749.8526643577,
          13430.6698955613,
          15261.7975911138,
          18466.5479299216,
          22804.5776774507,
          19861.6974295256,
          19960.0684872157,
          21871.2660754128,
          19870.8012123403,
          20133.1691431353,
          19890.9199056648,
          17829.6983223668
         ],
         "yaxis": "y"
        },
        {
         "hovertemplate": "country=Denmark<br>CO2_Upop=%{x}<br>GDP=%{y}<extra></extra>",
         "legendgroup": "Denmark",
         "marker": {
          "color": "#FF6692",
          "symbol": "circle"
         },
         "mode": "markers",
         "name": "Denmark",
         "orientation": "v",
         "showlegend": true,
         "type": "scatter",
         "x": [
          0.011916839362023346,
          0.014333122109386573,
          0.012976136516345929,
          0.01345781925644318,
          0.01428329497864905,
          0.013500063409715808,
          0.016400595539178206,
          0.014156096614453183,
          0.013234343336283396,
          0.012528085694106985,
          0.011576111247921166,
          0.011888089512961199,
          0.011747746717693134,
          0.012873055426246916,
          0.011618200194877902,
          0.010789360116297162,
          0.01241812780926658,
          0.011333168818200665,
          0.010550383602861382,
          0.010015413761394473,
          0.00999453595150766,
          0.008897188729484423,
          0.007843068845267257,
          0.008152938780989704,
          0.0072613588471508285,
          0.006775501178504481
         ],
         "xaxis": "x",
         "y": [
          26891.4464489571,
          27011.3774590051,
          29569.6603567112,
          27597.9752286357,
          29995.5796235479,
          35351.3654606819,
          35650.7140860994,
          32835.9399398833,
          33368.142415092,
          33440.7948054204,
          30743.5476816354,
          30751.654348268,
          33228.6935448819,
          40458.7773986609,
          46511.5983324305,
          48799.8256011275,
          52026.9995142723,
          58487.0549677696,
          64322.0635020842,
          58163.2768762815,
          58041.3984363385,
          61753.647131977,
          58507.5080517852,
          61191.1937042028,
          62548.9847332908,
          53254.8563700916
         ],
         "yaxis": "y"
        },
        {
         "hovertemplate": "country=Estonia<br>CO2_Upop=%{x}<br>GDP=%{y}<extra></extra>",
         "legendgroup": "Estonia",
         "marker": {
          "color": "#B6E880",
          "symbol": "circle"
         },
         "mode": "markers",
         "name": "Estonia",
         "orientation": "v",
         "showlegend": true,
         "type": "scatter",
         "x": [
          0.016335496468155974,
          0.01761232137045624,
          0.018249085169891183,
          0.016995307301408635,
          0.016018853619661218,
          0.01540924668312934,
          0.01584722194766943,
          0.015519031795181633,
          0.01764085080463514,
          0.017857161888947745,
          0.018049409098963173,
          0.017413306839998876,
          0.021529402538329825,
          0.019128167420566923,
          0.015429690503335727,
          0.020405115507001012,
          0.020508449402234993,
          0.018895793408661436,
          0.0209907935213834,
          0.019605940093177496,
          0.015975460831669352
         ],
         "xaxis": "x",
         "y": [
          3134.38975345407,
          3380.92630243199,
          3682.95230146695,
          4093.39247738765,
          4140.93660232167,
          4070.60902410208,
          4505.85833233188,
          5341.62894677002,
          7203.52303786646,
          8914.10355674451,
          10412.6443137966,
          12639.4000677296,
          16744.5844516343,
          18204.9664786762,
          14711.7352728223,
          14663.0446126465,
          17487.8047830922,
          17403.2053254767,
          19056.0019226989,
          20261.0667303886,
          17402.0376128079
         ],
         "yaxis": "y"
        },
        {
         "hovertemplate": "country=Finland<br>CO2_Upop=%{x}<br>GDP=%{y}<extra></extra>",
         "legendgroup": "Finland",
         "marker": {
          "color": "#FF97FF",
          "symbol": "circle"
         },
         "mode": "markers",
         "name": "Finland",
         "orientation": "v",
         "showlegend": true,
         "type": "scatter",
         "x": [
          0.013786906698814251,
          0.013772432502647933,
          0.012940567275578725,
          0.01312307017464191,
          0.0145962879663607,
          0.013563918537899415,
          0.015033495646190645,
          0.014478348153833882,
          0.01359979614174988,
          0.013350164981493771,
          0.01295203720576855,
          0.01429543921757123,
          0.014785572066137313,
          0.016645600869651812,
          0.015640318588512482,
          0.012751593598566749,
          0.015327155506659003,
          0.014801036620701993,
          0.012801626205827012,
          0.012164092635053872,
          0.013916774986200389,
          0.012133662806233923,
          0.01075663574532027,
          0.01084062916785909,
          0.009923314264905328,
          0.00916831729811796
         ],
         "xaxis": "x",
         "y": [
          28364.6450765922,
          25484.7392935746,
          22319.059460246,
          17608.8123902264,
          20301.333085866,
          26271.5998141691,
          25783.4504878611,
          24691.8728133698,
          26009.2694886182,
          26186.1900105755,
          24345.9148217032,
          24967.7925153182,
          26997.7529897788,
          32927.6802919408,
          37772.1781110398,
          39054.8504423825,
          41222.6020004611,
          48476.3927287052,
          53772.7942390019,
          47481.4845364339,
          46505.3031791811,
          51148.9316365833,
          47708.0612784469,
          49892.2233632732,
          50327.2402902632,
          42801.9081167285
         ],
         "yaxis": "y"
        },
        {
         "hovertemplate": "country=France<br>CO2_Upop=%{x}<br>GDP=%{y}<extra></extra>",
         "legendgroup": "France",
         "marker": {
          "color": "#FECB52",
          "symbol": "circle"
         },
         "mode": "markers",
         "name": "France",
         "orientation": "v",
         "showlegend": true,
         "type": "scatter",
         "x": [
          0.008288776534942506,
          0.008758227907043515,
          0.008419690639792043,
          0.007929926616473801,
          0.007768389920830508,
          0.00789777754442259,
          0.008201228536276589,
          0.00795837197118211,
          0.008396900439417074,
          0.00819683368316355,
          0.0080749106755419,
          0.008066851080024123,
          0.007861173638003323,
          0.00789873163966677,
          0.007838299074676775,
          0.007813662452439573,
          0.007550548771124784,
          0.0073057093536177745,
          0.00714547684114051,
          0.006802792479720702,
          0.006827199402336689,
          0.006521209655244016,
          0.006532060220729951,
          0.006479938670799748,
          0.005812538954617707,
          0.005870234250295412
         ],
         "xaxis": "x",
         "y": [
          21865.5552539348,
          21675.7060879719,
          23814.227367599,
          22380.331904695,
          23496.367675721,
          26889.4250554833,
          26870.2852380937,
          24226.8846867539,
          24971.5744885632,
          24678.3910613218,
          22416.425417915,
          22449.3396931175,
          24288.2700193508,
          29627.92426353,
          33797.1624418436,
          34768.1759037525,
          36470.2128399313,
          41557.6235648179,
          45515.9617533473,
          41737.7635518137,
          40676.0647913181,
          43846.4660764798,
          40870.8523645734,
          42602.7179652667,
          43068.5487241739,
          36652.9223052178
         ],
         "yaxis": "y"
        },
        {
         "hovertemplate": "country=Germany<br>CO2_Upop=%{x}<br>GDP=%{y}<extra></extra>",
         "legendgroup": "Germany",
         "marker": {
          "color": "#636efa",
          "symbol": "circle"
         },
         "mode": "markers",
         "name": "Germany",
         "orientation": "v",
         "showlegend": true,
         "type": "scatter",
         "x": [
          0.016448180075971968,
          0.015906900460058417,
          0.015095091899809971,
          0.014871656296965512,
          0.014591425570839148,
          0.014486380638102434,
          0.014892114771019862,
          0.014308896545582565,
          0.014145759043552303,
          0.013581662362630649,
          0.01347210816990862,
          0.013693777073953419,
          0.013403841339262458,
          0.013415144341841927,
          0.013130875410085178,
          0.012805294940731739,
          0.012977959161741222,
          0.012474303081752208,
          0.01255952706897265,
          0.01168635477204622,
          0.012282551540161021,
          0.012051584870349984,
          0.012247361652554061,
          0.012469848870248611,
          0.011774229475316679,
          0.011771171967983794
         ],
         "xaxis": "x",
         "y": [
          22303.9613266628,
          23357.757725073,
          26438.2303888417,
          25522.6295733618,
          27076.60675014,
          31658.3493789135,
          30485.8665482279,
          26964.0494672673,
          27289.0593603191,
          26734.9425369252,
          23694.7604830673,
          23628.3272122367,
          25197.2656001848,
          30310.3575963774,
          34106.6581224001,
          34520.2396492496,
          36353.8803343631,
          41640.0808695147,
          45612.7106221441,
          41650.3678297162,
          41572.4559481507,
          46705.8957963353,
          43855.8544658618,
          46298.9229177341,
          48023.8699845462,
          41103.2564363768
         ],
         "yaxis": "y"
        },
        {
         "hovertemplate": "country=Greece<br>CO2_Upop=%{x}<br>GDP=%{y}<extra></extra>",
         "legendgroup": "Greece",
         "marker": {
          "color": "#EF553B",
          "symbol": "circle"
         },
         "mode": "markers",
         "name": "Greece",
         "orientation": "v",
         "showlegend": true,
         "type": "scatter",
         "x": [
          0.010376816454726078,
          0.010255820622561777,
          0.010476592637898357,
          0.010386172571270945,
          0.010533730985505002,
          0.010874495344096787,
          0.010798151960980681,
          0.010858014636244447,
          0.011213265978645331,
          0.011186380584358484,
          0.012021633712590603,
          0.012198099320875778,
          0.012087354215580562,
          0.012444960042400234,
          0.012304009389261747,
          0.012462576135887853,
          0.012212016047137314,
          0.012554840972463696,
          0.011994022913756676,
          0.01123342083858009,
          0.010321940935281925,
          0.009932947155441027,
          0.009416150309814112,
          0.008545509570168561,
          0.008217367432363185,
          0.0080530559961048
         ],
         "xaxis": "x",
         "y": [
          9600.18523506603,
          10188.3697801238,
          11176.4584190614,
          10401.9830146096,
          11091.2838472779,
          12959.3242908115,
          13749.1151120679,
          13427.8325055002,
          13472.1376092623,
          13249.6633239242,
          12072.9293569196,
          12549.036894906,
          14177.5721592705,
          18518.3788387396,
          21995.477943746,
          22560.1472939077,
          24821.9367451879,
          28863.9732885018,
          32127.9831943287,
          29828.7560245271,
          26716.6488260274,
          25483.8825644931,
          21912.9982879517,
          21787.7877636035,
          21616.7100094908,
          18083.8779056547
         ],
         "yaxis": "y"
        },
        {
         "hovertemplate": "country=Hungary<br>CO2_Upop=%{x}<br>GDP=%{y}<extra></extra>",
         "legendgroup": "Hungary",
         "marker": {
          "color": "#00cc96",
          "symbol": "circle"
         },
         "mode": "markers",
         "name": "Hungary",
         "orientation": "v",
         "showlegend": true,
         "type": "scatter",
         "x": [
          0.009469752982100356,
          0.008528512235073386,
          0.008610798187293532,
          0.008550716938615364,
          0.008526764868979863,
          0.008710489247061071,
          0.008525979131958407,
          0.008617150824516976,
          0.008742676316791032,
          0.008285637806190271,
          0.00854247033189872,
          0.008409798097930158,
          0.008771354086426635,
          0.008460670504886861,
          0.008353578225951374,
          0.008231482818713828,
          0.007942880127415536,
          0.007773062731168347,
          0.0069720991280922875,
          0.006948148891993692,
          0.006782245716210804,
          0.006282588599180302,
          0.005890116737095022,
          0.005863132572965153,
          0.0062519103055263935
         ],
         "xaxis": "x",
         "y": [
          3350.25832349229,
          3735.10582034276,
          3873.98772279767,
          4173.37302405441,
          4494.70762405948,
          4525.03910312241,
          4596.18262235195,
          4744.21226429639,
          4793.47852203763,
          4624.28165670295,
          5276.03318905496,
          6655.33300865319,
          8419.43087098103,
          10301.7033946743,
          11223.3993032598,
          11489.5608654088,
          13940.9092761999,
          15772.3300839383,
          13077.305465178,
          13217.5045951108,
          14234.471576937,
          12984.8365730133,
          13715.0703590361,
          14294.2584180751,
          12717.038597002
         ],
         "yaxis": "y"
        },
        {
         "hovertemplate": "country=Ireland<br>CO2_Upop=%{x}<br>GDP=%{y}<extra></extra>",
         "legendgroup": "Ireland",
         "marker": {
          "color": "#ab63fa",
          "symbol": "circle"
         },
         "mode": "markers",
         "name": "Ireland",
         "orientation": "v",
         "showlegend": true,
         "type": "scatter",
         "x": [
          0.015477112878473559,
          0.01560001665762726,
          0.015453436475925467,
          0.015389888753239895,
          0.015833287500856344,
          0.01599407446228088,
          0.01645576260285088,
          0.016759348382930785,
          0.0176394480114012,
          0.018071569623824113,
          0.01889579115671554,
          0.019514524212827292,
          0.01873045881518756,
          0.018408503015764653,
          0.018237015580038842,
          0.018543074524076126,
          0.01820834813348569,
          0.017385212527254855,
          0.016725720522617518,
          0.014587342609333273,
          0.014376974719668643,
          0.01290319272517668,
          0.0129901514297959,
          0.012420691848984054,
          0.01224551295186895,
          0.012612505993858207
         ],
         "xaxis": "x",
         "y": [
          14031.3025675469,
          14087.2074393708,
          15714.3847487231,
          14657.0615549805,
          15902.9296755168,
          19158.4564773907,
          20835.8977130847,
          22551.1139134126,
          24294.8547674007,
          26338.1077543817,
          26334.5672050501,
          28282.409882073,
          32705.4345565698,
          41203.5295847568,
          47754.2023194244,
          50933.0216095589,
          54329.1618599624,
          61396.417461176,
          61353.1065629523,
          52133.0906162544,
          48663.6004439251,
          52219.7057327581,
          48943.8206459561,
          51496.9616850661,
          55752.7649838131,
          62179.2642662951
         ],
         "yaxis": "y"
        },
        {
         "hovertemplate": "country=Italy<br>CO2_Upop=%{x}<br>GDP=%{y}<extra></extra>",
         "legendgroup": "Italy",
         "marker": {
          "color": "#FFA15A",
          "symbol": "circle"
         },
         "mode": "markers",
         "name": "Italy",
         "orientation": "v",
         "showlegend": true,
         "type": "scatter",
         "x": [
          0.010708049995666704,
          0.010672472518734743,
          0.010611994266466234,
          0.010455157756292785,
          0.010321500714848887,
          0.010946379812448268,
          0.010821610153170366,
          0.010894401514948318,
          0.01116579582707737,
          0.011327605507195247,
          0.01139821531242378,
          0.011388824874363851,
          0.011534510696404187,
          0.011947113480153596,
          0.012110826368867103,
          0.012066807939182276,
          0.011827758773734938,
          0.01156440232886572,
          0.011108977170081968,
          0.009850490560791387,
          0.010006110489873448,
          0.009760607770300777,
          0.009212716141891703,
          0.008338592413374401,
          0.007777229713910424,
          0.007997260601399443
         ],
         "xaxis": "x",
         "y": [
          20825.7842228307,
          21956.5297707332,
          23243.4745277206,
          18738.7638969132,
          19337.6308996383,
          20664.5522701724,
          23081.6046757702,
          21829.3458226222,
          22318.1373007109,
          22005.0545405773,
          20137.5912217673,
          20500.9543995672,
          22376.2978989329,
          27526.3224609957,
          31317.2007943296,
          32055.0920757503,
          33529.7266014361,
          37870.7475070969,
          40944.9124194678,
          37226.7571935402,
          36035.6449950691,
          38649.6394836789,
          35051.5212697703,
          35560.0814062288,
          35565.7213771496,
          30242.3861352184
         ],
         "yaxis": "y"
        },
        {
         "hovertemplate": "country=Latvia<br>CO2_Upop=%{x}<br>GDP=%{y}<extra></extra>",
         "legendgroup": "Latvia",
         "marker": {
          "color": "#19d3f3",
          "symbol": "circle"
         },
         "mode": "markers",
         "name": "Latvia",
         "orientation": "v",
         "showlegend": true,
         "type": "scatter",
         "x": [
          0.005265991445007129,
          0.005340856479080055,
          0.0051102019490262066,
          0.004929737973742818,
          0.004628992014285127,
          0.004300021098093725,
          0.004632685329137142,
          0.004690542357915904,
          0.0048949448599920195,
          0.0049565290955709135,
          0.005067712921124316,
          0.005438497470736215,
          0.005710629234796565,
          0.0054882140064253385,
          0.005070468502448788,
          0.0059860070470737214,
          0.005649386510089391,
          0.005481081519386175,
          0.005451287040355792,
          0.0053751250170687515
         ],
         "xaxis": "x",
         "y": [
          2329.57673252552,
          2431.70899961616,
          2683.2413681237,
          2973.53484252681,
          3151.57701817354,
          3361.64086880275,
          3578.00190041351,
          4136.93329688951,
          5145.19523190241,
          6378.66652057115,
          7594.90238431362,
          9723.44690174779,
          14113.5291277327,
          16467.1436879405,
          12331.9285524089,
          11420.9940032836,
          13338.9622350852,
          13847.3379393194,
          15007.4918561719,
          15742.3913381908
         ],
         "yaxis": "y"
        },
        {
         "hovertemplate": "country=Lithuania<br>CO2_Upop=%{x}<br>GDP=%{y}<extra></extra>",
         "legendgroup": "Lithuania",
         "marker": {
          "color": "#FF6692",
          "symbol": "circle"
         },
         "mode": "markers",
         "name": "Lithuania",
         "orientation": "v",
         "showlegend": true,
         "type": "scatter",
         "x": [
          0.005629277254333922,
          0.005881337395257857,
          0.005798622982687961,
          0.006174537558348385,
          0.005183207983880559,
          0.004485924616468141,
          0.0048029459618528425,
          0.004877673535039917,
          0.004928328267983965,
          0.005293943843763121,
          0.0057946663161646044,
          0.0059689853178833,
          0.006121901359789152,
          0.006111640433629738,
          0.005530386593988334,
          0.006095316767368606,
          0.005861274204673542,
          0.005969630758680412,
          0.005719201832389648,
          0.005520178590575617
         ],
         "xaxis": "x",
         "y": [
          2167.79258211454,
          2327.43485695499,
          2830.27807089131,
          3166.66653264509,
          3113.17906019859,
          3293.22997867086,
          3525.79363185461,
          4141.59270180102,
          5499.42898911387,
          6700.32719189382,
          7854.76527867855,
          9230.70798102521,
          12285.4470537014,
          14944.996652175,
          11820.7761591359,
          11987.508411647,
          14376.9478643932,
          14367.709424872,
          15729.6524666512,
          16551.018202078
         ],
         "yaxis": "y"
        },
        {
         "hovertemplate": "country=Luxembourg<br>CO2_Upop=%{x}<br>GDP=%{y}<extra></extra>",
         "legendgroup": "Luxembourg",
         "marker": {
          "color": "#B6E880",
          "symbol": "circle"
         },
         "mode": "markers",
         "name": "Luxembourg",
         "orientation": "v",
         "showlegend": true,
         "type": "scatter",
         "x": [
          0.036509692781530656,
          0.037434429075111554,
          0.03576589143407604,
          0.03579193572677733,
          0.032528637754595434,
          0.025566393679772793,
          0.025465632122932708,
          0.02373789301791099,
          0.02149002832008226,
          0.022048421175704228,
          0.023287719699320152,
          0.024341769820316442,
          0.025798051936108547,
          0.02644761272695815,
          0.029535454552363002,
          0.02957390186138653,
          0.02849257240958377,
          0.026490798628076757,
          0.02569137716037153,
          0.023791449759075944,
          0.024569606943318216,
          0.023667113674534872,
          0.022576097783330237,
          0.020902222888830903,
          0.01928478007847341,
          0.017780918617848668
         ],
         "xaxis": "x",
         "y": [
          33465.478207919,
          35747.3377992066,
          39570.8615665986,
          40066.7242518773,
          43933.235442736,
          51032.349635318,
          50444.3591236175,
          46641.6408754876,
          47445.3810812051,
          50872.4492684624,
          48659.5988753233,
          48440.1420151355,
          53005.7339209179,
          65689.3214536911,
          76544.9170868473,
          80988.1376230858,
          90788.8004876145,
          107475.320297978,
          120422.137934157,
          109419.746953106,
          110885.991378721,
          119025.057203467,
          112584.676270958,
          120000.140729859,
          123678.702143275,
          105462.012584423
         ],
         "yaxis": "y"
        },
        {
         "hovertemplate": "country=Malta<br>CO2_Upop=%{x}<br>GDP=%{y}<extra></extra>",
         "legendgroup": "Malta",
         "marker": {
          "color": "#FF97FF",
          "symbol": "circle"
         },
         "mode": "markers",
         "name": "Malta",
         "orientation": "v",
         "showlegend": true,
         "type": "scatter",
         "x": [
          0.007230820176068878,
          0.006713659652138525,
          0.006511819202526553,
          0.006930286353558808,
          0.006709853608967642,
          0.007051507182566536,
          0.0067139617605311225,
          0.0067503313243728645,
          0.006302140672782875,
          0.007023610426614313,
          0.0069314749794563675,
          0.006945024724330328,
          0.006973171206532776,
          0.007113760972811266,
          0.00708482651368178,
          0.006473268976331651,
          0.0066333962496409665,
          0.006566057379956568,
          0.0068625493729041,
          0.005905173594424261,
          0.005747185310932897
         ],
         "xaxis": "x",
         "y": [
          7191.92360259617,
          7558.27738257485,
          8220.2455176794,
          9171.061035149,
          9438.55732745403,
          9724.33796960323,
          10273.4518124025,
          10720.9058766396,
          11289.8897447166,
          13669.4972171661,
          15197.056610121,
          15888.1724565995,
          16723.8842735356,
          19485.8711529324,
          22205.3567709304,
          21083.2770528363,
          21798.9142935915,
          23155.103527089,
          22526.5370208632,
          24769.5962287121,
          26753.2733830814
         ],
         "yaxis": "y"
        },
        {
         "hovertemplate": "country=Netherlands<br>CO2_Upop=%{x}<br>GDP=%{y}<extra></extra>",
         "legendgroup": "Netherlands",
         "marker": {
          "color": "#FECB52",
          "symbol": "circle"
         },
         "mode": "markers",
         "name": "Netherlands",
         "orientation": "v",
         "showlegend": true,
         "type": "scatter",
         "x": [
          0.014754732432946956,
          0.015052709964068782,
          0.01463124474984331,
          0.014730065496310889,
          0.014417977636086945,
          0.014580045325203178,
          0.015181304260273913,
          0.014309271843461492,
          0.014106513080943427,
          0.01342929850454141,
          0.01325402506198284,
          0.013381339769850318,
          0.01310509426262036,
          0.013069071778219133,
          0.012968461479864758,
          0.012452700597777979,
          0.011974252490175533,
          0.011881834557231241,
          0.011763865298812057,
          0.01125148725008397,
          0.011818935895497455,
          0.010822847382023376,
          0.010609351847073406,
          0.010481506126925947,
          0.009902893160527946,
          0.010302687938655224
         ],
         "xaxis": "x",
         "y": [
          21290.8603827045,
          21732.2307621923,
          23904.037415058,
          23122.4107668645,
          24646.3143096269,
          29258.1343486211,
          29006.8094454171,
          26700.5371335926,
          27885.8083823465,
          28272.6432492539,
          26214.498549887,
          26896.5481111196,
          29343.2449960602,
          35750.9746630269,
          40436.6182310407,
          41994.7135305232,
          44900.9381441374,
          51799.2085521047,
          57879.9437553916,
          52722.2130568997,
          50999.7451168879,
          54230.3129029852,
          50070.1416045904,
          52198.8975607454,
          52900.537415323,
          45193.4032187971
         ],
         "yaxis": "y"
        },
        {
         "hovertemplate": "country=Poland<br>CO2_Upop=%{x}<br>GDP=%{y}<extra></extra>",
         "legendgroup": "Poland",
         "marker": {
          "color": "#636efa",
          "symbol": "circle"
         },
         "mode": "markers",
         "name": "Poland",
         "orientation": "v",
         "showlegend": true,
         "type": "scatter",
         "x": [
          0.014998178195596526,
          0.014994247708155505,
          0.014586864445481186,
          0.01456657013810017,
          0.014345175580856571,
          0.01432607001274416,
          0.014949102105650444,
          0.01447914049547888,
          0.013363503127504627,
          0.012959098103635002,
          0.012526605989108364,
          0.012430044135238792,
          0.012163561889549706,
          0.01263549444424663,
          0.012841297576249432,
          0.012848995343069025,
          0.013424937815849431,
          0.01342605608247656,
          0.013232312225700432,
          0.012772202840559794,
          0.013543658804840987,
          0.013425358439818444,
          0.013139585939707361,
          0.012955477332592122,
          0.012444562832738421,
          0.012624873626752046
         ],
         "xaxis": "x",
         "y": [
          1731.2095094382,
          2235.54108862522,
          2459.02068468253,
          2497.13055936127,
          2874.83163555069,
          3686.84514580278,
          4147.46550145483,
          4123.14567666725,
          4518.10822630174,
          4398.07217426732,
          4501.47996121234,
          4991.24435799511,
          5207.129304207,
          5701.63886301914,
          6681.30975087388,
          8021.54789037388,
          9035.53275810927,
          11254.3140875349,
          13995.7811598115,
          11525.9007370991,
          12504.2501856093,
          13776.3883624327,
          13010.7555868425,
          13558.3411314221,
          14181.9486817352,
          12560.051419682
         ],
         "yaxis": "y"
        },
        {
         "hovertemplate": "country=Portugal<br>CO2_Upop=%{x}<br>GDP=%{y}<extra></extra>",
         "legendgroup": "Portugal",
         "marker": {
          "color": "#EF553B",
          "symbol": "circle"
         },
         "mode": "markers",
         "name": "Portugal",
         "orientation": "v",
         "showlegend": true,
         "type": "scatter",
         "x": [
          0.008585544477333243,
          0.008858950548364764,
          0.009565900287545556,
          0.00922997787681968,
          0.009384334161802189,
          0.009892749768845483,
          0.009355379470352223,
          0.009609855518955518,
          0.01030854476437257,
          0.011328253966635265,
          0.011015645628252954,
          0.010761393162796234,
          0.011310815228185549,
          0.010280965191354378,
          0.010413722577966565,
          0.010836938126114646,
          0.009881414202211647,
          0.00949284504106146,
          0.009070102444015122,
          0.008884065124605028,
          0.007954219121775807,
          0.007722187148048475,
          0.007425038299070121,
          0.007140003432340035,
          0.007016653803873259,
          0.007577626288451378
         ],
         "xaxis": "x",
         "y": [
          7884.61798756332,
          8958.9853330247,
          10810.5665079626,
          9534.6563637308,
          9977.31990905771,
          11781.3618502221,
          12185.0914010629,
          11575.5071124358,
          12199.206385024,
          12475.2917701476,
          11526.3720667968,
          11734.7649743954,
          12936.6928204482,
          15797.7821340276,
          18064.1580932987,
          18780.12751241,
          19839.4540499032,
          22811.0564844365,
          24949.0413566739,
          23151.2154130712,
          22520.6423124045,
          23217.2954965207,
          20563.7136012629,
          21653.1959752225,
          22103.7009703321,
          19250.1065376852
         ],
         "yaxis": "y"
        },
        {
         "hovertemplate": "country=Romania<br>CO2_Upop=%{x}<br>GDP=%{y}<extra></extra>",
         "legendgroup": "Romania",
         "marker": {
          "color": "#00cc96",
          "symbol": "circle"
         },
         "mode": "markers",
         "name": "Romania",
         "orientation": "v",
         "showlegend": true,
         "type": "scatter",
         "x": [
          0.01398146205156568,
          0.011508318377095194,
          0.010208657210426372,
          0.009561349176896026,
          0.009394811800743176,
          0.009909720380368948,
          0.010241341820447161,
          0.009421039069971032,
          0.008293558820857597,
          0.007112977261165473,
          0.007481973275658576,
          0.008140485718406363,
          0.008172472804924705,
          0.008596995271390673,
          0.008378523956838118,
          0.008352018505840721,
          0.008785639160531149,
          0.008668190693994013,
          0.008672353030361976,
          0.007378595077797404,
          0.00712029741561553,
          0.007731102470049043,
          0.007559843208889904,
          0.00668830583255494,
          0.006666610753577972
         ],
         "xaxis": "x",
         "y": [
          1648.48522974542,
          1254.3124421298,
          1102.10378473246,
          1158.05632799712,
          1323.03237766927,
          1650.04922365201,
          1633.01064354117,
          1577.33656023974,
          1852.5549693339,
          1599.90622808339,
          1659.92904910528,
          1825.19299373184,
          2119.85509684554,
          2679.40626016154,
          3494.99056448955,
          4618.00350802913,
          5757.53127301178,
          8360.33775916596,
          10435.2179803541,
          8548.04859012993,
          8397.80917311457,
          9560.15942530942,
          8930.72991164974,
          9497.20647561211,
          10031.3421526698
         ],
         "yaxis": "y"
        },
        {
         "hovertemplate": "country=Slovak Republic<br>CO2_Upop=%{x}<br>GDP=%{y}<extra></extra>",
         "legendgroup": "Slovak Republic",
         "marker": {
          "color": "#ab63fa",
          "symbol": "circle"
         },
         "mode": "markers",
         "name": "Slovak Republic",
         "orientation": "v",
         "showlegend": true,
         "type": "scatter",
         "x": [
          0.018309880797604462,
          0.015919912593276457,
          0.015319686056806489,
          0.014688766150802134,
          0.013781611915201875,
          0.013976717236574608,
          0.013897475795468288,
          0.013919323340479553,
          0.01362932361146544,
          0.01338544624354144,
          0.012564091479252956,
          0.012769895922882102,
          0.012638880126968528,
          0.012769711312950406,
          0.01250577168902173,
          0.012902686603961488,
          0.012720613894993378,
          0.012521691407946615,
          0.012513606622794899,
          0.011454281543956175,
          0.012017832637226443,
          0.011613073860346566,
          0.011020279814147696,
          0.011232522329143709,
          0.010402382718116792,
          0.010521884254722816
         ],
         "xaxis": "x",
         "y": [
          2405.53516040785,
          2691.19565226261,
          2920.91754234186,
          3102.29685877712,
          3771.35951578288,
          4819.12555470987,
          5196.94037965932,
          5146.67107827084,
          5538.61646477184,
          5645.58139584233,
          5426.62428119306,
          5722.1681828083,
          6564.69631373665,
          8731.93736824381,
          10691.4465495259,
          11690.1134689407,
          13170.7849804675,
          16106.0604446695,
          18753.5849413816,
          16597.2084581361,
          16908.8479564876,
          18509.7402157541,
          17498.3539002594,
          18276.0095516546,
          18719.9881409371,
          16390.8821748507
         ],
         "yaxis": "y"
        },
        {
         "hovertemplate": "country=Slovenia<br>CO2_Upop=%{x}<br>GDP=%{y}<extra></extra>",
         "legendgroup": "Slovenia",
         "marker": {
          "color": "#FFA15A",
          "symbol": "circle"
         },
         "mode": "markers",
         "name": "Slovenia",
         "orientation": "v",
         "showlegend": true,
         "type": "scatter",
         "x": [
          0.014364949127034,
          0.015180397529834595,
          0.015625860134759827,
          0.015430484141629492,
          0.01482167762304428,
          0.014405438952944102,
          0.015204217610679659,
          0.015304852921749521,
          0.015118788378160988,
          0.01532225873415399,
          0.01543936195804847,
          0.01568640098583346,
          0.015521599877988332,
          0.016450252959085917,
          0.014501898154208668,
          0.014625541023209421,
          0.014462718944735884,
          0.013842909394461958,
          0.013242230665183586,
          0.011873842629274631,
          0.011839828868216273
         ],
         "xaxis": "x",
         "y": [
          10730.4510136379,
          10815.1110457688,
          10454.9656390657,
          11175.7710286265,
          11452.7831245082,
          10201.3035366727,
          10479.7596309273,
          11777.1556578814,
          14849.0372415032,
          17233.1385611279,
          18098.9085440003,
          19672.9655554146,
          23817.8867320201,
          27595.5999653992,
          24792.1279805504,
          23532.4808545468,
          25128.0150431304,
          22641.805122503,
          23503.2824850255,
          24247.1733184083,
          20890.1664304173
         ],
         "yaxis": "y"
        },
        {
         "hovertemplate": "country=Spain<br>CO2_Upop=%{x}<br>GDP=%{y}<extra></extra>",
         "legendgroup": "Spain",
         "marker": {
          "color": "#19d3f3",
          "symbol": "circle"
         },
         "mode": "markers",
         "name": "Spain",
         "orientation": "v",
         "showlegend": true,
         "type": "scatter",
         "x": [
          0.007339475416257553,
          0.007546576472780437,
          0.00784843486666014,
          0.007319753423971529,
          0.007623236444572552,
          0.00798349653993162,
          0.007596612072354422,
          0.008163976446663382,
          0.008370295546337825,
          0.009045385293556028,
          0.009480754715322299,
          0.009452406062508597,
          0.009863292269461733,
          0.009837898565736044,
          0.010150253626044494,
          0.01039203430695632,
          0.009932813718347132,
          0.010087883675328506,
          0.009049552797081275,
          0.007946154020108957,
          0.007503331659178587,
          0.007490917059014873,
          0.007323704325683143,
          0.006608369222028503,
          0.0065594954862720715,
          0.006958186027621909
         ],
         "xaxis": "x",
         "y": [
          13804.8767869937,
          14811.9028194881,
          16112.1889152156,
          13339.908563675,
          13415.2870010456,
          15471.962716535,
          16109.0843985284,
          14730.7971752046,
          15394.3514628249,
          15720.6405016061,
          14749.6874248766,
          15369.0011599444,
          17106.686576658,
          21510.8362454011,
          24907.0008505856,
          26429.1509449319,
          28389.0785799873,
          32591.3503065871,
          35510.7222312701,
          32169.5028548583,
          30532.4805081656,
          31677.9003083652,
          28322.9465923276,
          29077.1820557563,
          29513.6511800405,
          25754.36102944
         ],
         "yaxis": "y"
        },
        {
         "hovertemplate": "country=Sweden<br>CO2_Upop=%{x}<br>GDP=%{y}<extra></extra>",
         "legendgroup": "Sweden",
         "marker": {
          "color": "#FF6692",
          "symbol": "circle"
         },
         "mode": "markers",
         "name": "Sweden",
         "orientation": "v",
         "showlegend": true,
         "type": "scatter",
         "x": [
          0.007500458354938816,
          0.007564336462435641,
          0.007853248372807004,
          0.0077601772078502015,
          0.007960977479458446,
          0.007870005147928266,
          0.008579163709666006,
          0.007727577754731259,
          0.007852814853495543,
          0.00769644309870509,
          0.007146662896428352,
          0.0070193662911090275,
          0.007194684661468789,
          0.007318915421605919,
          0.007072437811181629,
          0.006578005672709983,
          0.0063567233231637725,
          0.006080790489970004,
          0.005890398826407471,
          0.0054164320661209365,
          0.006015739170998785,
          0.005515208324674205,
          0.005152648528529825,
          0.004895419276811105,
          0.004662782071230444,
          0.004612409448388131
         ],
         "xaxis": "x",
         "y": [
          30593.6724447761,
          31822.8038482367,
          32800.9826867546,
          24425.2849281118,
          26083.6143874838,
          30282.9639200066,
          32998.9681608432,
          30312.4875993103,
          30596.5272048832,
          30941.0793624668,
          29624.9126748618,
          27247.857734793,
          29899.1952495081,
          37321.7979047059,
          42821.6731423358,
          43437.0631164776,
          46593.6021646111,
          53700.0053363063,
          56152.552340314,
          46946.9602719954,
          52869.0442891587,
          60755.7595508465,
          58037.8213192173,
          61126.9431963979,
          60020.3604576572,
          51545.4836095322
         ],
         "yaxis": "y"
        }
       ],
       "layout": {
        "autosize": true,
        "legend": {
         "title": {
          "text": "country"
         },
         "tracegroupgap": 0
        },
        "margin": {
         "t": 60
        },
        "template": {
         "data": {
          "bar": [
           {
            "error_x": {
             "color": "#2a3f5f"
            },
            "error_y": {
             "color": "#2a3f5f"
            },
            "marker": {
             "line": {
              "color": "#E5ECF6",
              "width": 0.5
             },
             "pattern": {
              "fillmode": "overlay",
              "size": 10,
              "solidity": 0.2
             }
            },
            "type": "bar"
           }
          ],
          "barpolar": [
           {
            "marker": {
             "line": {
              "color": "#E5ECF6",
              "width": 0.5
             },
             "pattern": {
              "fillmode": "overlay",
              "size": 10,
              "solidity": 0.2
             }
            },
            "type": "barpolar"
           }
          ],
          "carpet": [
           {
            "aaxis": {
             "endlinecolor": "#2a3f5f",
             "gridcolor": "white",
             "linecolor": "white",
             "minorgridcolor": "white",
             "startlinecolor": "#2a3f5f"
            },
            "baxis": {
             "endlinecolor": "#2a3f5f",
             "gridcolor": "white",
             "linecolor": "white",
             "minorgridcolor": "white",
             "startlinecolor": "#2a3f5f"
            },
            "type": "carpet"
           }
          ],
          "choropleth": [
           {
            "colorbar": {
             "outlinewidth": 0,
             "ticks": ""
            },
            "type": "choropleth"
           }
          ],
          "contour": [
           {
            "colorbar": {
             "outlinewidth": 0,
             "ticks": ""
            },
            "colorscale": [
             [
              0,
              "#0d0887"
             ],
             [
              0.1111111111111111,
              "#46039f"
             ],
             [
              0.2222222222222222,
              "#7201a8"
             ],
             [
              0.3333333333333333,
              "#9c179e"
             ],
             [
              0.4444444444444444,
              "#bd3786"
             ],
             [
              0.5555555555555556,
              "#d8576b"
             ],
             [
              0.6666666666666666,
              "#ed7953"
             ],
             [
              0.7777777777777778,
              "#fb9f3a"
             ],
             [
              0.8888888888888888,
              "#fdca26"
             ],
             [
              1,
              "#f0f921"
             ]
            ],
            "type": "contour"
           }
          ],
          "contourcarpet": [
           {
            "colorbar": {
             "outlinewidth": 0,
             "ticks": ""
            },
            "type": "contourcarpet"
           }
          ],
          "heatmap": [
           {
            "colorbar": {
             "outlinewidth": 0,
             "ticks": ""
            },
            "colorscale": [
             [
              0,
              "#0d0887"
             ],
             [
              0.1111111111111111,
              "#46039f"
             ],
             [
              0.2222222222222222,
              "#7201a8"
             ],
             [
              0.3333333333333333,
              "#9c179e"
             ],
             [
              0.4444444444444444,
              "#bd3786"
             ],
             [
              0.5555555555555556,
              "#d8576b"
             ],
             [
              0.6666666666666666,
              "#ed7953"
             ],
             [
              0.7777777777777778,
              "#fb9f3a"
             ],
             [
              0.8888888888888888,
              "#fdca26"
             ],
             [
              1,
              "#f0f921"
             ]
            ],
            "type": "heatmap"
           }
          ],
          "heatmapgl": [
           {
            "colorbar": {
             "outlinewidth": 0,
             "ticks": ""
            },
            "colorscale": [
             [
              0,
              "#0d0887"
             ],
             [
              0.1111111111111111,
              "#46039f"
             ],
             [
              0.2222222222222222,
              "#7201a8"
             ],
             [
              0.3333333333333333,
              "#9c179e"
             ],
             [
              0.4444444444444444,
              "#bd3786"
             ],
             [
              0.5555555555555556,
              "#d8576b"
             ],
             [
              0.6666666666666666,
              "#ed7953"
             ],
             [
              0.7777777777777778,
              "#fb9f3a"
             ],
             [
              0.8888888888888888,
              "#fdca26"
             ],
             [
              1,
              "#f0f921"
             ]
            ],
            "type": "heatmapgl"
           }
          ],
          "histogram": [
           {
            "marker": {
             "pattern": {
              "fillmode": "overlay",
              "size": 10,
              "solidity": 0.2
             }
            },
            "type": "histogram"
           }
          ],
          "histogram2d": [
           {
            "colorbar": {
             "outlinewidth": 0,
             "ticks": ""
            },
            "colorscale": [
             [
              0,
              "#0d0887"
             ],
             [
              0.1111111111111111,
              "#46039f"
             ],
             [
              0.2222222222222222,
              "#7201a8"
             ],
             [
              0.3333333333333333,
              "#9c179e"
             ],
             [
              0.4444444444444444,
              "#bd3786"
             ],
             [
              0.5555555555555556,
              "#d8576b"
             ],
             [
              0.6666666666666666,
              "#ed7953"
             ],
             [
              0.7777777777777778,
              "#fb9f3a"
             ],
             [
              0.8888888888888888,
              "#fdca26"
             ],
             [
              1,
              "#f0f921"
             ]
            ],
            "type": "histogram2d"
           }
          ],
          "histogram2dcontour": [
           {
            "colorbar": {
             "outlinewidth": 0,
             "ticks": ""
            },
            "colorscale": [
             [
              0,
              "#0d0887"
             ],
             [
              0.1111111111111111,
              "#46039f"
             ],
             [
              0.2222222222222222,
              "#7201a8"
             ],
             [
              0.3333333333333333,
              "#9c179e"
             ],
             [
              0.4444444444444444,
              "#bd3786"
             ],
             [
              0.5555555555555556,
              "#d8576b"
             ],
             [
              0.6666666666666666,
              "#ed7953"
             ],
             [
              0.7777777777777778,
              "#fb9f3a"
             ],
             [
              0.8888888888888888,
              "#fdca26"
             ],
             [
              1,
              "#f0f921"
             ]
            ],
            "type": "histogram2dcontour"
           }
          ],
          "mesh3d": [
           {
            "colorbar": {
             "outlinewidth": 0,
             "ticks": ""
            },
            "type": "mesh3d"
           }
          ],
          "parcoords": [
           {
            "line": {
             "colorbar": {
              "outlinewidth": 0,
              "ticks": ""
             }
            },
            "type": "parcoords"
           }
          ],
          "pie": [
           {
            "automargin": true,
            "type": "pie"
           }
          ],
          "scatter": [
           {
            "fillpattern": {
             "fillmode": "overlay",
             "size": 10,
             "solidity": 0.2
            },
            "type": "scatter"
           }
          ],
          "scatter3d": [
           {
            "line": {
             "colorbar": {
              "outlinewidth": 0,
              "ticks": ""
             }
            },
            "marker": {
             "colorbar": {
              "outlinewidth": 0,
              "ticks": ""
             }
            },
            "type": "scatter3d"
           }
          ],
          "scattercarpet": [
           {
            "marker": {
             "colorbar": {
              "outlinewidth": 0,
              "ticks": ""
             }
            },
            "type": "scattercarpet"
           }
          ],
          "scattergeo": [
           {
            "marker": {
             "colorbar": {
              "outlinewidth": 0,
              "ticks": ""
             }
            },
            "type": "scattergeo"
           }
          ],
          "scattergl": [
           {
            "marker": {
             "colorbar": {
              "outlinewidth": 0,
              "ticks": ""
             }
            },
            "type": "scattergl"
           }
          ],
          "scattermapbox": [
           {
            "marker": {
             "colorbar": {
              "outlinewidth": 0,
              "ticks": ""
             }
            },
            "type": "scattermapbox"
           }
          ],
          "scatterpolar": [
           {
            "marker": {
             "colorbar": {
              "outlinewidth": 0,
              "ticks": ""
             }
            },
            "type": "scatterpolar"
           }
          ],
          "scatterpolargl": [
           {
            "marker": {
             "colorbar": {
              "outlinewidth": 0,
              "ticks": ""
             }
            },
            "type": "scatterpolargl"
           }
          ],
          "scatterternary": [
           {
            "marker": {
             "colorbar": {
              "outlinewidth": 0,
              "ticks": ""
             }
            },
            "type": "scatterternary"
           }
          ],
          "surface": [
           {
            "colorbar": {
             "outlinewidth": 0,
             "ticks": ""
            },
            "colorscale": [
             [
              0,
              "#0d0887"
             ],
             [
              0.1111111111111111,
              "#46039f"
             ],
             [
              0.2222222222222222,
              "#7201a8"
             ],
             [
              0.3333333333333333,
              "#9c179e"
             ],
             [
              0.4444444444444444,
              "#bd3786"
             ],
             [
              0.5555555555555556,
              "#d8576b"
             ],
             [
              0.6666666666666666,
              "#ed7953"
             ],
             [
              0.7777777777777778,
              "#fb9f3a"
             ],
             [
              0.8888888888888888,
              "#fdca26"
             ],
             [
              1,
              "#f0f921"
             ]
            ],
            "type": "surface"
           }
          ],
          "table": [
           {
            "cells": {
             "fill": {
              "color": "#EBF0F8"
             },
             "line": {
              "color": "white"
             }
            },
            "header": {
             "fill": {
              "color": "#C8D4E3"
             },
             "line": {
              "color": "white"
             }
            },
            "type": "table"
           }
          ]
         },
         "layout": {
          "annotationdefaults": {
           "arrowcolor": "#2a3f5f",
           "arrowhead": 0,
           "arrowwidth": 1
          },
          "autotypenumbers": "strict",
          "coloraxis": {
           "colorbar": {
            "outlinewidth": 0,
            "ticks": ""
           }
          },
          "colorscale": {
           "diverging": [
            [
             0,
             "#8e0152"
            ],
            [
             0.1,
             "#c51b7d"
            ],
            [
             0.2,
             "#de77ae"
            ],
            [
             0.3,
             "#f1b6da"
            ],
            [
             0.4,
             "#fde0ef"
            ],
            [
             0.5,
             "#f7f7f7"
            ],
            [
             0.6,
             "#e6f5d0"
            ],
            [
             0.7,
             "#b8e186"
            ],
            [
             0.8,
             "#7fbc41"
            ],
            [
             0.9,
             "#4d9221"
            ],
            [
             1,
             "#276419"
            ]
           ],
           "sequential": [
            [
             0,
             "#0d0887"
            ],
            [
             0.1111111111111111,
             "#46039f"
            ],
            [
             0.2222222222222222,
             "#7201a8"
            ],
            [
             0.3333333333333333,
             "#9c179e"
            ],
            [
             0.4444444444444444,
             "#bd3786"
            ],
            [
             0.5555555555555556,
             "#d8576b"
            ],
            [
             0.6666666666666666,
             "#ed7953"
            ],
            [
             0.7777777777777778,
             "#fb9f3a"
            ],
            [
             0.8888888888888888,
             "#fdca26"
            ],
            [
             1,
             "#f0f921"
            ]
           ],
           "sequentialminus": [
            [
             0,
             "#0d0887"
            ],
            [
             0.1111111111111111,
             "#46039f"
            ],
            [
             0.2222222222222222,
             "#7201a8"
            ],
            [
             0.3333333333333333,
             "#9c179e"
            ],
            [
             0.4444444444444444,
             "#bd3786"
            ],
            [
             0.5555555555555556,
             "#d8576b"
            ],
            [
             0.6666666666666666,
             "#ed7953"
            ],
            [
             0.7777777777777778,
             "#fb9f3a"
            ],
            [
             0.8888888888888888,
             "#fdca26"
            ],
            [
             1,
             "#f0f921"
            ]
           ]
          },
          "colorway": [
           "#636efa",
           "#EF553B",
           "#00cc96",
           "#ab63fa",
           "#FFA15A",
           "#19d3f3",
           "#FF6692",
           "#B6E880",
           "#FF97FF",
           "#FECB52"
          ],
          "font": {
           "color": "#2a3f5f"
          },
          "geo": {
           "bgcolor": "white",
           "lakecolor": "white",
           "landcolor": "#E5ECF6",
           "showlakes": true,
           "showland": true,
           "subunitcolor": "white"
          },
          "hoverlabel": {
           "align": "left"
          },
          "hovermode": "closest",
          "mapbox": {
           "style": "light"
          },
          "paper_bgcolor": "white",
          "plot_bgcolor": "#E5ECF6",
          "polar": {
           "angularaxis": {
            "gridcolor": "white",
            "linecolor": "white",
            "ticks": ""
           },
           "bgcolor": "#E5ECF6",
           "radialaxis": {
            "gridcolor": "white",
            "linecolor": "white",
            "ticks": ""
           }
          },
          "scene": {
           "xaxis": {
            "backgroundcolor": "#E5ECF6",
            "gridcolor": "white",
            "gridwidth": 2,
            "linecolor": "white",
            "showbackground": true,
            "ticks": "",
            "zerolinecolor": "white"
           },
           "yaxis": {
            "backgroundcolor": "#E5ECF6",
            "gridcolor": "white",
            "gridwidth": 2,
            "linecolor": "white",
            "showbackground": true,
            "ticks": "",
            "zerolinecolor": "white"
           },
           "zaxis": {
            "backgroundcolor": "#E5ECF6",
            "gridcolor": "white",
            "gridwidth": 2,
            "linecolor": "white",
            "showbackground": true,
            "ticks": "",
            "zerolinecolor": "white"
           }
          },
          "shapedefaults": {
           "line": {
            "color": "#2a3f5f"
           }
          },
          "ternary": {
           "aaxis": {
            "gridcolor": "white",
            "linecolor": "white",
            "ticks": ""
           },
           "baxis": {
            "gridcolor": "white",
            "linecolor": "white",
            "ticks": ""
           },
           "bgcolor": "#E5ECF6",
           "caxis": {
            "gridcolor": "white",
            "linecolor": "white",
            "ticks": ""
           }
          },
          "title": {
           "x": 0.05
          },
          "xaxis": {
           "automargin": true,
           "gridcolor": "white",
           "linecolor": "white",
           "ticks": "",
           "title": {
            "standoff": 15
           },
           "zerolinecolor": "white",
           "zerolinewidth": 2
          },
          "yaxis": {
           "automargin": true,
           "gridcolor": "white",
           "linecolor": "white",
           "ticks": "",
           "title": {
            "standoff": 15
           },
           "zerolinecolor": "white",
           "zerolinewidth": 2
          }
         }
        },
        "xaxis": {
         "anchor": "y",
         "autorange": true,
         "domain": [
          0,
          1
         ],
         "range": [
          0.002260172164099115,
          0.03947427800910616
         ],
         "title": {
          "text": "CO2_Upop"
         },
         "type": "linear"
        },
        "yaxis": {
         "anchor": "x",
         "autorange": true,
         "domain": [
          0,
          1
         ],
         "range": [
          -8388.735195784613,
          133169.54112379206
         ],
         "title": {
          "text": "GDP"
         },
         "type": "linear"
        }
       }
      },
      "image/png": "[encoded data removed]",
      "text/html": [
       "<div>                            <div id=\"406ba1bb-79b1-469d-aa3c-a858eb6b0048\" class=\"plotly-graph-div\" style=\"height:525px; width:100%;\"></div>            <script type=\"text/javascript\">                require([\"plotly\"], function(Plotly) {                    window.PLOTLYENV=window.PLOTLYENV || {};                                    if (document.getElementById(\"406ba1bb-79b1-469d-aa3c-a858eb6b0048\")) {                    Plotly.newPlot(                        \"406ba1bb-79b1-469d-aa3c-a858eb6b0048\",                        [{\"hovertemplate\":\"country=Austria\\u003cbr\\u003eCO2_Upop=%{x}\\u003cbr\\u003eGDP=%{y}\\u003cextra\\u003e\\u003c\\u002fextra\\u003e\",\"legendgroup\":\"Austria\",\"marker\":{\"color\":\"#636efa\",\"symbol\":\"circle\"},\"mode\":\"markers\",\"name\":\"Austria\",\"orientation\":\"v\",\"showlegend\":true,\"x\":[0.012055443409501168,0.012840411859472784,0.011783564759237709,0.011765814613311101,0.011871140080112813,0.012497679143089586,0.013298496517445352,0.013203720900780844,0.013341991011555834,0.013042364917986604,0.01317134065394639,0.014089925702292996,0.014389133532906434,0.015443059500072062,0.015696804939676658,0.015755709870133142,0.0153114559875499,0.01474491715503893,0.014664180852709095,0.013385621604931473,0.014574513957891975,0.014245276385610593,0.013515760395409474,0.01352382182525636,0.012621997865501364,0.012681034631387207],\"xaxis\":\"x\",\"y\":[21680.989623313,22410.9117666654,24880.1641180361,24081.5277928004,25646.7006591684,30325.8495818396,29809.0767730821,26705.4785993891,27361.8751106437,27183.4759263956,24625.6007227434,24558.7636778868,26527.5930910347,32294.0488606559,36889.2335135194,38417.4577857677,40669.3269586152,46915.3374004507,51919.9835754226,48153.3240199631,46903.7615854343,51442.2762464407,48564.9173350875,50731.1272541847,51786.3771747905,44195.8175947748],\"yaxis\":\"y\",\"type\":\"scatter\"},{\"hovertemplate\":\"country=Belgium\\u003cbr\\u003eCO2_Upop=%{x}\\u003cbr\\u003eGDP=%{y}\\u003cextra\\u003e\\u003c\\u002fextra\\u003e\",\"legendgroup\":\"Belgium\",\"marker\":{\"color\":\"#EF553B\",\"symbol\":\"circle\"},\"mode\":\"markers\",\"name\":\"Belgium\",\"orientation\":\"v\",\"showlegend\":true,\"x\":[0.011379307724410153,0.01180881426283003,0.011582972048494318,0.01130032048002524,0.011746461894287628,0.011678645135392069,0.012143007816054095,0.011819403388909888,0.012066152613396035,0.01163724676550335,0.011778180378162481,0.011837405745222667,0.011032392179585722,0.011440878675204016,0.011173095808891436,0.010871536896093631,0.010514371111096195,0.010028947195955751,0.010213843378814588,0.009480663761478903,0.010044767454264704,0.008947212685861666,0.008776017007542124,0.008847566494478484,0.008240115475275431,0.008617880343627739],\"xaxis\":\"x\",\"y\":[20600.3752789827,21041.6606519648,23372.619171015,22283.9360213551,24208.5547931447,28413.8264387368,27489.5551770488,24820.9380503896,25338.4432934904,25252.8019066564,23098.8865077401,23015.0712632462,25006.191397109,30655.2092679024,35429.4077933344,36809.7013403619,38705.1067959147,44319.165448813,48303.397956286,44760.2912443709,44184.946353964,47410.5669277464,44670.5606845101,46757.9518559598,47764.0715120833,41008.296719472],\"yaxis\":\"y\",\"type\":\"scatter\"},{\"hovertemplate\":\"country=Bulgaria\\u003cbr\\u003eCO2_Upop=%{x}\\u003cbr\\u003eGDP=%{y}\\u003cextra\\u003e\\u003c\\u002fextra\\u003e\",\"legendgroup\":\"Bulgaria\",\"marker\":{\"color\":\"#00cc96\",\"symbol\":\"circle\"},\"mode\":\"markers\",\"name\":\"Bulgaria\",\"orientation\":\"v\",\"showlegend\":true,\"x\":[0.01271928043478599,0.01021425336883792,0.00966772789596507,0.00980385694711879,0.009418262249622517,0.009632279125276423,0.009723705789049193,0.009344171560954804,0.00893075140213372,0.007860169078227498,0.007713592437389049,0.008337348362328491,0.008001878610488946,0.008822099780226496,0.008720959625313343,0.008876344822955344,0.009079900295962744,0.009780043977816972,0.009324692033016283,0.008009303289283952,0.008367161221476946,0.009299474415654147,0.008444778477688713,0.007446237275814199,0.007904215071394566],\"xaxis\":\"x\",\"y\":[2366.52982128614,1267.73437541485,1211.98087810931,1278.52511370319,1148.4943993817,2259.25922555221,1470.19259250682,1361.40938439884,1820.44866449942,1659.71861105493,1621.26210738992,1770.90704918691,2092.98288625558,2719.49436859287,3389.68743360274,3899.82596332878,4523.1465578805,5888.77685220636,7271.30338858025,6988.27316296465,6863.66706774052,7857.16706984441,7430.7373804242,7687.71368243317,7912.27484371138],\"yaxis\":\"y\",\"type\":\"scatter\"},{\"hovertemplate\":\"country=Croatia\\u003cbr\\u003eCO2_Upop=%{x}\\u003cbr\\u003eGDP=%{y}\\u003cextra\\u003e\\u003c\\u002fextra\\u003e\",\"legendgroup\":\"Croatia\",\"marker\":{\"color\":\"#ab63fa\",\"symbol\":\"circle\"},\"mode\":\"markers\",\"name\":\"Croatia\",\"orientation\":\"v\",\"showlegend\":true,\"x\":[0.006397908338698425,0.006374896254982477,0.007137102051243669,0.007717923286071164,0.00771203664400438,0.007554232270106613,0.008322876985658256,0.008758833693304536,0.009301994203876826,0.009049507210362741,0.009160399905170959,0.009195269683151194,0.00970972292563563,0.009196173435590638,0.008577698549818569,0.008212801000192897,0.008034876522617461,0.007346909827162078,0.007175427747551961,0.006850125346273828],\"xaxis\":\"x\",\"y\":[4930.33530861222,5298.88508010941,5330.32889310394,5711.48570357941,5267.51220732922,4952.37775298931,5364.01024143422,6219.47321325884,8192.32263343511,9723.38102385632,10446.3614889222,11505.399839938,13762.4562630334,15898.7998960876,14421.1714758536,13693.5000292691,14655.8743881973,13439.6645555189,13979.1855602956,14001.1603438958],\"yaxis\":\"y\",\"type\":\"scatter\"},{\"hovertemplate\":\"country=Cyprus\\u003cbr\\u003eCO2_Upop=%{x}\\u003cbr\\u003eGDP=%{y}\\u003cextra\\u003e\\u003c\\u002fextra\\u003e\",\"legendgroup\":\"Cyprus\",\"marker\":{\"color\":\"#FFA15A\",\"symbol\":\"circle\"},\"mode\":\"markers\",\"name\":\"Cyprus\",\"orientation\":\"v\",\"showlegend\":true,\"x\":[0.00871974763023499,0.009516217056920353,0.0100024642456214,0.0102433780038289,0.010423466967972323,0.009966392397728589,0.01035465178309461,0.010288339153421885,0.010564624012862948,0.010763034971914073,0.010949756200975196,0.010538142950155538,0.010624596121581485,0.011423800982836812,0.01116229146397812,0.011159621515266652,0.011125467130818882,0.011378965536135007,0.011457414049490869,0.011004369250898184,0.010350222902475907,0.009891210418510165,0.009125465509550578,0.008204174521709275,0.008633985337511028],\"xaxis\":\"x\",\"y\":[9641.5751953125,9696.099609375,11310.072265625,10526.1416015625,11617.6923828125,15261.41015625,15139.2265625,14234.244140625,15092.826171875,15287.9189453125,14388.34765625,14821.447265625,16093.21484375,20252.23828125,23792.62109375,24959.259765625,26729.32421875,31244.92578125,35397.36328125,32109.2421875,31023.267578125,32395.75390625,28910.74609375,27727.53515625,27162.322265625],\"yaxis\":\"y\",\"type\":\"scatter\"},{\"hovertemplate\":\"country=Czechia\\u003cbr\\u003eCO2_Upop=%{x}\\u003cbr\\u003eGDP=%{y}\\u003cextra\\u003e\\u003c\\u002fextra\\u003e\",\"legendgroup\":\"Czechia\",\"marker\":{\"color\":\"#19d3f3\",\"symbol\":\"circle\"},\"mode\":\"markers\",\"name\":\"Czechia\",\"orientation\":\"v\",\"showlegend\":true,\"x\":[0.019703361101283328,0.0180384786700502,0.017674329455398933,0.01692896558364724,0.01620366188105293,0.016153318170125178,0.01671616232529069,0.016440359014819,0.01566881114123769,0.014740756746204639,0.016437092191963747,0.01647401911119926,0.01597210134885378,0.01641240038983357,0.01647776328600033,0.016218617688748254,0.016277596389627592,0.016446686337569398,0.01557640340523528,0.014788117178677427,0.014879078392639987,0.014478839069449677,0.013949320595785134,0.013354723841830491,0.012941691143656182,0.013055676862657647],\"xaxis\":\"x\",\"y\":[3941.50309406941,2896.60913065504,3372.86542951101,3956.1783495613,4630.55121674353,5824.12129119574,6532.83705470198,6034.48843731935,6489.7036188033,6337.41912037126,6029.03819275358,6637.04165713981,8060.86870292424,9818.56849307488,11749.8526643577,13430.6698955613,15261.7975911138,18466.5479299216,22804.5776774507,19861.6974295256,19960.0684872157,21871.2660754128,19870.8012123403,20133.1691431353,19890.9199056648,17829.6983223668],\"yaxis\":\"y\",\"type\":\"scatter\"},{\"hovertemplate\":\"country=Denmark\\u003cbr\\u003eCO2_Upop=%{x}\\u003cbr\\u003eGDP=%{y}\\u003cextra\\u003e\\u003c\\u002fextra\\u003e\",\"legendgroup\":\"Denmark\",\"marker\":{\"color\":\"#FF6692\",\"symbol\":\"circle\"},\"mode\":\"markers\",\"name\":\"Denmark\",\"orientation\":\"v\",\"showlegend\":true,\"x\":[0.011916839362023346,0.014333122109386573,0.012976136516345929,0.01345781925644318,0.01428329497864905,0.013500063409715808,0.016400595539178206,0.014156096614453183,0.013234343336283396,0.012528085694106985,0.011576111247921166,0.011888089512961199,0.011747746717693134,0.012873055426246916,0.011618200194877902,0.010789360116297162,0.01241812780926658,0.011333168818200665,0.010550383602861382,0.010015413761394473,0.00999453595150766,0.008897188729484423,0.007843068845267257,0.008152938780989704,0.0072613588471508285,0.006775501178504481],\"xaxis\":\"x\",\"y\":[26891.4464489571,27011.3774590051,29569.6603567112,27597.9752286357,29995.5796235479,35351.3654606819,35650.7140860994,32835.9399398833,33368.142415092,33440.7948054204,30743.5476816354,30751.654348268,33228.6935448819,40458.7773986609,46511.5983324305,48799.8256011275,52026.9995142723,58487.0549677696,64322.0635020842,58163.2768762815,58041.3984363385,61753.647131977,58507.5080517852,61191.1937042028,62548.9847332908,53254.8563700916],\"yaxis\":\"y\",\"type\":\"scatter\"},{\"hovertemplate\":\"country=Estonia\\u003cbr\\u003eCO2_Upop=%{x}\\u003cbr\\u003eGDP=%{y}\\u003cextra\\u003e\\u003c\\u002fextra\\u003e\",\"legendgroup\":\"Estonia\",\"marker\":{\"color\":\"#B6E880\",\"symbol\":\"circle\"},\"mode\":\"markers\",\"name\":\"Estonia\",\"orientation\":\"v\",\"showlegend\":true,\"x\":[0.016335496468155974,0.01761232137045624,0.018249085169891183,0.016995307301408635,0.016018853619661218,0.01540924668312934,0.01584722194766943,0.015519031795181633,0.01764085080463514,0.017857161888947745,0.018049409098963173,0.017413306839998876,0.021529402538329825,0.019128167420566923,0.015429690503335727,0.020405115507001012,0.020508449402234993,0.018895793408661436,0.0209907935213834,0.019605940093177496,0.015975460831669352],\"xaxis\":\"x\",\"y\":[3134.38975345407,3380.92630243199,3682.95230146695,4093.39247738765,4140.93660232167,4070.60902410208,4505.85833233188,5341.62894677002,7203.52303786646,8914.10355674451,10412.6443137966,12639.4000677296,16744.5844516343,18204.9664786762,14711.7352728223,14663.0446126465,17487.8047830922,17403.2053254767,19056.0019226989,20261.0667303886,17402.0376128079],\"yaxis\":\"y\",\"type\":\"scatter\"},{\"hovertemplate\":\"country=Finland\\u003cbr\\u003eCO2_Upop=%{x}\\u003cbr\\u003eGDP=%{y}\\u003cextra\\u003e\\u003c\\u002fextra\\u003e\",\"legendgroup\":\"Finland\",\"marker\":{\"color\":\"#FF97FF\",\"symbol\":\"circle\"},\"mode\":\"markers\",\"name\":\"Finland\",\"orientation\":\"v\",\"showlegend\":true,\"x\":[0.013786906698814251,0.013772432502647933,0.012940567275578725,0.01312307017464191,0.0145962879663607,0.013563918537899415,0.015033495646190645,0.014478348153833882,0.01359979614174988,0.013350164981493771,0.01295203720576855,0.01429543921757123,0.014785572066137313,0.016645600869651812,0.015640318588512482,0.012751593598566749,0.015327155506659003,0.014801036620701993,0.012801626205827012,0.012164092635053872,0.013916774986200389,0.012133662806233923,0.01075663574532027,0.01084062916785909,0.009923314264905328,0.00916831729811796],\"xaxis\":\"x\",\"y\":[28364.6450765922,25484.7392935746,22319.059460246,17608.8123902264,20301.333085866,26271.5998141691,25783.4504878611,24691.8728133698,26009.2694886182,26186.1900105755,24345.9148217032,24967.7925153182,26997.7529897788,32927.6802919408,37772.1781110398,39054.8504423825,41222.6020004611,48476.3927287052,53772.7942390019,47481.4845364339,46505.3031791811,51148.9316365833,47708.0612784469,49892.2233632732,50327.2402902632,42801.9081167285],\"yaxis\":\"y\",\"type\":\"scatter\"},{\"hovertemplate\":\"country=France\\u003cbr\\u003eCO2_Upop=%{x}\\u003cbr\\u003eGDP=%{y}\\u003cextra\\u003e\\u003c\\u002fextra\\u003e\",\"legendgroup\":\"France\",\"marker\":{\"color\":\"#FECB52\",\"symbol\":\"circle\"},\"mode\":\"markers\",\"name\":\"France\",\"orientation\":\"v\",\"showlegend\":true,\"x\":[0.008288776534942506,0.008758227907043515,0.008419690639792043,0.007929926616473801,0.007768389920830508,0.00789777754442259,0.008201228536276589,0.00795837197118211,0.008396900439417074,0.00819683368316355,0.0080749106755419,0.008066851080024123,0.007861173638003323,0.00789873163966677,0.007838299074676775,0.007813662452439573,0.007550548771124784,0.0073057093536177745,0.00714547684114051,0.006802792479720702,0.006827199402336689,0.006521209655244016,0.006532060220729951,0.006479938670799748,0.005812538954617707,0.005870234250295412],\"xaxis\":\"x\",\"y\":[21865.5552539348,21675.7060879719,23814.227367599,22380.331904695,23496.367675721,26889.4250554833,26870.2852380937,24226.8846867539,24971.5744885632,24678.3910613218,22416.425417915,22449.3396931175,24288.2700193508,29627.92426353,33797.1624418436,34768.1759037525,36470.2128399313,41557.6235648179,45515.9617533473,41737.7635518137,40676.0647913181,43846.4660764798,40870.8523645734,42602.7179652667,43068.5487241739,36652.9223052178],\"yaxis\":\"y\",\"type\":\"scatter\"},{\"hovertemplate\":\"country=Germany\\u003cbr\\u003eCO2_Upop=%{x}\\u003cbr\\u003eGDP=%{y}\\u003cextra\\u003e\\u003c\\u002fextra\\u003e\",\"legendgroup\":\"Germany\",\"marker\":{\"color\":\"#636efa\",\"symbol\":\"circle\"},\"mode\":\"markers\",\"name\":\"Germany\",\"orientation\":\"v\",\"showlegend\":true,\"x\":[0.016448180075971968,0.015906900460058417,0.015095091899809971,0.014871656296965512,0.014591425570839148,0.014486380638102434,0.014892114771019862,0.014308896545582565,0.014145759043552303,0.013581662362630649,0.01347210816990862,0.013693777073953419,0.013403841339262458,0.013415144341841927,0.013130875410085178,0.012805294940731739,0.012977959161741222,0.012474303081752208,0.01255952706897265,0.01168635477204622,0.012282551540161021,0.012051584870349984,0.012247361652554061,0.012469848870248611,0.011774229475316679,0.011771171967983794],\"xaxis\":\"x\",\"y\":[22303.9613266628,23357.757725073,26438.2303888417,25522.6295733618,27076.60675014,31658.3493789135,30485.8665482279,26964.0494672673,27289.0593603191,26734.9425369252,23694.7604830673,23628.3272122367,25197.2656001848,30310.3575963774,34106.6581224001,34520.2396492496,36353.8803343631,41640.0808695147,45612.7106221441,41650.3678297162,41572.4559481507,46705.8957963353,43855.8544658618,46298.9229177341,48023.8699845462,41103.2564363768],\"yaxis\":\"y\",\"type\":\"scatter\"},{\"hovertemplate\":\"country=Greece\\u003cbr\\u003eCO2_Upop=%{x}\\u003cbr\\u003eGDP=%{y}\\u003cextra\\u003e\\u003c\\u002fextra\\u003e\",\"legendgroup\":\"Greece\",\"marker\":{\"color\":\"#EF553B\",\"symbol\":\"circle\"},\"mode\":\"markers\",\"name\":\"Greece\",\"orientation\":\"v\",\"showlegend\":true,\"x\":[0.010376816454726078,0.010255820622561777,0.010476592637898357,0.010386172571270945,0.010533730985505002,0.010874495344096787,0.010798151960980681,0.010858014636244447,0.011213265978645331,0.011186380584358484,0.012021633712590603,0.012198099320875778,0.012087354215580562,0.012444960042400234,0.012304009389261747,0.012462576135887853,0.012212016047137314,0.012554840972463696,0.011994022913756676,0.01123342083858009,0.010321940935281925,0.009932947155441027,0.009416150309814112,0.008545509570168561,0.008217367432363185,0.0080530559961048],\"xaxis\":\"x\",\"y\":[9600.18523506603,10188.3697801238,11176.4584190614,10401.9830146096,11091.2838472779,12959.3242908115,13749.1151120679,13427.8325055002,13472.1376092623,13249.6633239242,12072.9293569196,12549.036894906,14177.5721592705,18518.3788387396,21995.477943746,22560.1472939077,24821.9367451879,28863.9732885018,32127.9831943287,29828.7560245271,26716.6488260274,25483.8825644931,21912.9982879517,21787.7877636035,21616.7100094908,18083.8779056547],\"yaxis\":\"y\",\"type\":\"scatter\"},{\"hovertemplate\":\"country=Hungary\\u003cbr\\u003eCO2_Upop=%{x}\\u003cbr\\u003eGDP=%{y}\\u003cextra\\u003e\\u003c\\u002fextra\\u003e\",\"legendgroup\":\"Hungary\",\"marker\":{\"color\":\"#00cc96\",\"symbol\":\"circle\"},\"mode\":\"markers\",\"name\":\"Hungary\",\"orientation\":\"v\",\"showlegend\":true,\"x\":[0.009469752982100356,0.008528512235073386,0.008610798187293532,0.008550716938615364,0.008526764868979863,0.008710489247061071,0.008525979131958407,0.008617150824516976,0.008742676316791032,0.008285637806190271,0.00854247033189872,0.008409798097930158,0.008771354086426635,0.008460670504886861,0.008353578225951374,0.008231482818713828,0.007942880127415536,0.007773062731168347,0.0069720991280922875,0.006948148891993692,0.006782245716210804,0.006282588599180302,0.005890116737095022,0.005863132572965153,0.0062519103055263935],\"xaxis\":\"x\",\"y\":[3350.25832349229,3735.10582034276,3873.98772279767,4173.37302405441,4494.70762405948,4525.03910312241,4596.18262235195,4744.21226429639,4793.47852203763,4624.28165670295,5276.03318905496,6655.33300865319,8419.43087098103,10301.7033946743,11223.3993032598,11489.5608654088,13940.9092761999,15772.3300839383,13077.305465178,13217.5045951108,14234.471576937,12984.8365730133,13715.0703590361,14294.2584180751,12717.038597002],\"yaxis\":\"y\",\"type\":\"scatter\"},{\"hovertemplate\":\"country=Ireland\\u003cbr\\u003eCO2_Upop=%{x}\\u003cbr\\u003eGDP=%{y}\\u003cextra\\u003e\\u003c\\u002fextra\\u003e\",\"legendgroup\":\"Ireland\",\"marker\":{\"color\":\"#ab63fa\",\"symbol\":\"circle\"},\"mode\":\"markers\",\"name\":\"Ireland\",\"orientation\":\"v\",\"showlegend\":true,\"x\":[0.015477112878473559,0.01560001665762726,0.015453436475925467,0.015389888753239895,0.015833287500856344,0.01599407446228088,0.01645576260285088,0.016759348382930785,0.0176394480114012,0.018071569623824113,0.01889579115671554,0.019514524212827292,0.01873045881518756,0.018408503015764653,0.018237015580038842,0.018543074524076126,0.01820834813348569,0.017385212527254855,0.016725720522617518,0.014587342609333273,0.014376974719668643,0.01290319272517668,0.0129901514297959,0.012420691848984054,0.01224551295186895,0.012612505993858207],\"xaxis\":\"x\",\"y\":[14031.3025675469,14087.2074393708,15714.3847487231,14657.0615549805,15902.9296755168,19158.4564773907,20835.8977130847,22551.1139134126,24294.8547674007,26338.1077543817,26334.5672050501,28282.409882073,32705.4345565698,41203.5295847568,47754.2023194244,50933.0216095589,54329.1618599624,61396.417461176,61353.1065629523,52133.0906162544,48663.6004439251,52219.7057327581,48943.8206459561,51496.9616850661,55752.7649838131,62179.2642662951],\"yaxis\":\"y\",\"type\":\"scatter\"},{\"hovertemplate\":\"country=Italy\\u003cbr\\u003eCO2_Upop=%{x}\\u003cbr\\u003eGDP=%{y}\\u003cextra\\u003e\\u003c\\u002fextra\\u003e\",\"legendgroup\":\"Italy\",\"marker\":{\"color\":\"#FFA15A\",\"symbol\":\"circle\"},\"mode\":\"markers\",\"name\":\"Italy\",\"orientation\":\"v\",\"showlegend\":true,\"x\":[0.010708049995666704,0.010672472518734743,0.010611994266466234,0.010455157756292785,0.010321500714848887,0.010946379812448268,0.010821610153170366,0.010894401514948318,0.01116579582707737,0.011327605507195247,0.01139821531242378,0.011388824874363851,0.011534510696404187,0.011947113480153596,0.012110826368867103,0.012066807939182276,0.011827758773734938,0.01156440232886572,0.011108977170081968,0.009850490560791387,0.010006110489873448,0.009760607770300777,0.009212716141891703,0.008338592413374401,0.007777229713910424,0.007997260601399443],\"xaxis\":\"x\",\"y\":[20825.7842228307,21956.5297707332,23243.4745277206,18738.7638969132,19337.6308996383,20664.5522701724,23081.6046757702,21829.3458226222,22318.1373007109,22005.0545405773,20137.5912217673,20500.9543995672,22376.2978989329,27526.3224609957,31317.2007943296,32055.0920757503,33529.7266014361,37870.7475070969,40944.9124194678,37226.7571935402,36035.6449950691,38649.6394836789,35051.5212697703,35560.0814062288,35565.7213771496,30242.3861352184],\"yaxis\":\"y\",\"type\":\"scatter\"},{\"hovertemplate\":\"country=Latvia\\u003cbr\\u003eCO2_Upop=%{x}\\u003cbr\\u003eGDP=%{y}\\u003cextra\\u003e\\u003c\\u002fextra\\u003e\",\"legendgroup\":\"Latvia\",\"marker\":{\"color\":\"#19d3f3\",\"symbol\":\"circle\"},\"mode\":\"markers\",\"name\":\"Latvia\",\"orientation\":\"v\",\"showlegend\":true,\"x\":[0.005265991445007129,0.005340856479080055,0.0051102019490262066,0.004929737973742818,0.004628992014285127,0.004300021098093725,0.004632685329137142,0.004690542357915904,0.0048949448599920195,0.0049565290955709135,0.005067712921124316,0.005438497470736215,0.005710629234796565,0.0054882140064253385,0.005070468502448788,0.0059860070470737214,0.005649386510089391,0.005481081519386175,0.005451287040355792,0.0053751250170687515],\"xaxis\":\"x\",\"y\":[2329.57673252552,2431.70899961616,2683.2413681237,2973.53484252681,3151.57701817354,3361.64086880275,3578.00190041351,4136.93329688951,5145.19523190241,6378.66652057115,7594.90238431362,9723.44690174779,14113.5291277327,16467.1436879405,12331.9285524089,11420.9940032836,13338.9622350852,13847.3379393194,15007.4918561719,15742.3913381908],\"yaxis\":\"y\",\"type\":\"scatter\"},{\"hovertemplate\":\"country=Lithuania\\u003cbr\\u003eCO2_Upop=%{x}\\u003cbr\\u003eGDP=%{y}\\u003cextra\\u003e\\u003c\\u002fextra\\u003e\",\"legendgroup\":\"Lithuania\",\"marker\":{\"color\":\"#FF6692\",\"symbol\":\"circle\"},\"mode\":\"markers\",\"name\":\"Lithuania\",\"orientation\":\"v\",\"showlegend\":true,\"x\":[0.005629277254333922,0.005881337395257857,0.005798622982687961,0.006174537558348385,0.005183207983880559,0.004485924616468141,0.0048029459618528425,0.004877673535039917,0.004928328267983965,0.005293943843763121,0.0057946663161646044,0.0059689853178833,0.006121901359789152,0.006111640433629738,0.005530386593988334,0.006095316767368606,0.005861274204673542,0.005969630758680412,0.005719201832389648,0.005520178590575617],\"xaxis\":\"x\",\"y\":[2167.79258211454,2327.43485695499,2830.27807089131,3166.66653264509,3113.17906019859,3293.22997867086,3525.79363185461,4141.59270180102,5499.42898911387,6700.32719189382,7854.76527867855,9230.70798102521,12285.4470537014,14944.996652175,11820.7761591359,11987.508411647,14376.9478643932,14367.709424872,15729.6524666512,16551.018202078],\"yaxis\":\"y\",\"type\":\"scatter\"},{\"hovertemplate\":\"country=Luxembourg\\u003cbr\\u003eCO2_Upop=%{x}\\u003cbr\\u003eGDP=%{y}\\u003cextra\\u003e\\u003c\\u002fextra\\u003e\",\"legendgroup\":\"Luxembourg\",\"marker\":{\"color\":\"#B6E880\",\"symbol\":\"circle\"},\"mode\":\"markers\",\"name\":\"Luxembourg\",\"orientation\":\"v\",\"showlegend\":true,\"x\":[0.036509692781530656,0.037434429075111554,0.03576589143407604,0.03579193572677733,0.032528637754595434,0.025566393679772793,0.025465632122932708,0.02373789301791099,0.02149002832008226,0.022048421175704228,0.023287719699320152,0.024341769820316442,0.025798051936108547,0.02644761272695815,0.029535454552363002,0.02957390186138653,0.02849257240958377,0.026490798628076757,0.02569137716037153,0.023791449759075944,0.024569606943318216,0.023667113674534872,0.022576097783330237,0.020902222888830903,0.01928478007847341,0.017780918617848668],\"xaxis\":\"x\",\"y\":[33465.478207919,35747.3377992066,39570.8615665986,40066.7242518773,43933.235442736,51032.349635318,50444.3591236175,46641.6408754876,47445.3810812051,50872.4492684624,48659.5988753233,48440.1420151355,53005.7339209179,65689.3214536911,76544.9170868473,80988.1376230858,90788.8004876145,107475.320297978,120422.137934157,109419.746953106,110885.991378721,119025.057203467,112584.676270958,120000.140729859,123678.702143275,105462.012584423],\"yaxis\":\"y\",\"type\":\"scatter\"},{\"hovertemplate\":\"country=Malta\\u003cbr\\u003eCO2_Upop=%{x}\\u003cbr\\u003eGDP=%{y}\\u003cextra\\u003e\\u003c\\u002fextra\\u003e\",\"legendgroup\":\"Malta\",\"marker\":{\"color\":\"#FF97FF\",\"symbol\":\"circle\"},\"mode\":\"markers\",\"name\":\"Malta\",\"orientation\":\"v\",\"showlegend\":true,\"x\":[0.007230820176068878,0.006713659652138525,0.006511819202526553,0.006930286353558808,0.006709853608967642,0.007051507182566536,0.0067139617605311225,0.0067503313243728645,0.006302140672782875,0.007023610426614313,0.0069314749794563675,0.006945024724330328,0.006973171206532776,0.007113760972811266,0.00708482651368178,0.006473268976331651,0.0066333962496409665,0.006566057379956568,0.0068625493729041,0.005905173594424261,0.005747185310932897],\"xaxis\":\"x\",\"y\":[7191.92360259617,7558.27738257485,8220.2455176794,9171.061035149,9438.55732745403,9724.33796960323,10273.4518124025,10720.9058766396,11289.8897447166,13669.4972171661,15197.056610121,15888.1724565995,16723.8842735356,19485.8711529324,22205.3567709304,21083.2770528363,21798.9142935915,23155.103527089,22526.5370208632,24769.5962287121,26753.2733830814],\"yaxis\":\"y\",\"type\":\"scatter\"},{\"hovertemplate\":\"country=Netherlands\\u003cbr\\u003eCO2_Upop=%{x}\\u003cbr\\u003eGDP=%{y}\\u003cextra\\u003e\\u003c\\u002fextra\\u003e\",\"legendgroup\":\"Netherlands\",\"marker\":{\"color\":\"#FECB52\",\"symbol\":\"circle\"},\"mode\":\"markers\",\"name\":\"Netherlands\",\"orientation\":\"v\",\"showlegend\":true,\"x\":[0.014754732432946956,0.015052709964068782,0.01463124474984331,0.014730065496310889,0.014417977636086945,0.014580045325203178,0.015181304260273913,0.014309271843461492,0.014106513080943427,0.01342929850454141,0.01325402506198284,0.013381339769850318,0.01310509426262036,0.013069071778219133,0.012968461479864758,0.012452700597777979,0.011974252490175533,0.011881834557231241,0.011763865298812057,0.01125148725008397,0.011818935895497455,0.010822847382023376,0.010609351847073406,0.010481506126925947,0.009902893160527946,0.010302687938655224],\"xaxis\":\"x\",\"y\":[21290.8603827045,21732.2307621923,23904.037415058,23122.4107668645,24646.3143096269,29258.1343486211,29006.8094454171,26700.5371335926,27885.8083823465,28272.6432492539,26214.498549887,26896.5481111196,29343.2449960602,35750.9746630269,40436.6182310407,41994.7135305232,44900.9381441374,51799.2085521047,57879.9437553916,52722.2130568997,50999.7451168879,54230.3129029852,50070.1416045904,52198.8975607454,52900.537415323,45193.4032187971],\"yaxis\":\"y\",\"type\":\"scatter\"},{\"hovertemplate\":\"country=Poland\\u003cbr\\u003eCO2_Upop=%{x}\\u003cbr\\u003eGDP=%{y}\\u003cextra\\u003e\\u003c\\u002fextra\\u003e\",\"legendgroup\":\"Poland\",\"marker\":{\"color\":\"#636efa\",\"symbol\":\"circle\"},\"mode\":\"markers\",\"name\":\"Poland\",\"orientation\":\"v\",\"showlegend\":true,\"x\":[0.014998178195596526,0.014994247708155505,0.014586864445481186,0.01456657013810017,0.014345175580856571,0.01432607001274416,0.014949102105650444,0.01447914049547888,0.013363503127504627,0.012959098103635002,0.012526605989108364,0.012430044135238792,0.012163561889549706,0.01263549444424663,0.012841297576249432,0.012848995343069025,0.013424937815849431,0.01342605608247656,0.013232312225700432,0.012772202840559794,0.013543658804840987,0.013425358439818444,0.013139585939707361,0.012955477332592122,0.012444562832738421,0.012624873626752046],\"xaxis\":\"x\",\"y\":[1731.2095094382,2235.54108862522,2459.02068468253,2497.13055936127,2874.83163555069,3686.84514580278,4147.46550145483,4123.14567666725,4518.10822630174,4398.07217426732,4501.47996121234,4991.24435799511,5207.129304207,5701.63886301914,6681.30975087388,8021.54789037388,9035.53275810927,11254.3140875349,13995.7811598115,11525.9007370991,12504.2501856093,13776.3883624327,13010.7555868425,13558.3411314221,14181.9486817352,12560.051419682],\"yaxis\":\"y\",\"type\":\"scatter\"},{\"hovertemplate\":\"country=Portugal\\u003cbr\\u003eCO2_Upop=%{x}\\u003cbr\\u003eGDP=%{y}\\u003cextra\\u003e\\u003c\\u002fextra\\u003e\",\"legendgroup\":\"Portugal\",\"marker\":{\"color\":\"#EF553B\",\"symbol\":\"circle\"},\"mode\":\"markers\",\"name\":\"Portugal\",\"orientation\":\"v\",\"showlegend\":true,\"x\":[0.008585544477333243,0.008858950548364764,0.009565900287545556,0.00922997787681968,0.009384334161802189,0.009892749768845483,0.009355379470352223,0.009609855518955518,0.01030854476437257,0.011328253966635265,0.011015645628252954,0.010761393162796234,0.011310815228185549,0.010280965191354378,0.010413722577966565,0.010836938126114646,0.009881414202211647,0.00949284504106146,0.009070102444015122,0.008884065124605028,0.007954219121775807,0.007722187148048475,0.007425038299070121,0.007140003432340035,0.007016653803873259,0.007577626288451378],\"xaxis\":\"x\",\"y\":[7884.61798756332,8958.9853330247,10810.5665079626,9534.6563637308,9977.31990905771,11781.3618502221,12185.0914010629,11575.5071124358,12199.206385024,12475.2917701476,11526.3720667968,11734.7649743954,12936.6928204482,15797.7821340276,18064.1580932987,18780.12751241,19839.4540499032,22811.0564844365,24949.0413566739,23151.2154130712,22520.6423124045,23217.2954965207,20563.7136012629,21653.1959752225,22103.7009703321,19250.1065376852],\"yaxis\":\"y\",\"type\":\"scatter\"},{\"hovertemplate\":\"country=Romania\\u003cbr\\u003eCO2_Upop=%{x}\\u003cbr\\u003eGDP=%{y}\\u003cextra\\u003e\\u003c\\u002fextra\\u003e\",\"legendgroup\":\"Romania\",\"marker\":{\"color\":\"#00cc96\",\"symbol\":\"circle\"},\"mode\":\"markers\",\"name\":\"Romania\",\"orientation\":\"v\",\"showlegend\":true,\"x\":[0.01398146205156568,0.011508318377095194,0.010208657210426372,0.009561349176896026,0.009394811800743176,0.009909720380368948,0.010241341820447161,0.009421039069971032,0.008293558820857597,0.007112977261165473,0.007481973275658576,0.008140485718406363,0.008172472804924705,0.008596995271390673,0.008378523956838118,0.008352018505840721,0.008785639160531149,0.008668190693994013,0.008672353030361976,0.007378595077797404,0.00712029741561553,0.007731102470049043,0.007559843208889904,0.00668830583255494,0.006666610753577972],\"xaxis\":\"x\",\"y\":[1648.48522974542,1254.3124421298,1102.10378473246,1158.05632799712,1323.03237766927,1650.04922365201,1633.01064354117,1577.33656023974,1852.5549693339,1599.90622808339,1659.92904910528,1825.19299373184,2119.85509684554,2679.40626016154,3494.99056448955,4618.00350802913,5757.53127301178,8360.33775916596,10435.2179803541,8548.04859012993,8397.80917311457,9560.15942530942,8930.72991164974,9497.20647561211,10031.3421526698],\"yaxis\":\"y\",\"type\":\"scatter\"},{\"hovertemplate\":\"country=Slovak Republic\\u003cbr\\u003eCO2_Upop=%{x}\\u003cbr\\u003eGDP=%{y}\\u003cextra\\u003e\\u003c\\u002fextra\\u003e\",\"legendgroup\":\"Slovak Republic\",\"marker\":{\"color\":\"#ab63fa\",\"symbol\":\"circle\"},\"mode\":\"markers\",\"name\":\"Slovak Republic\",\"orientation\":\"v\",\"showlegend\":true,\"x\":[0.018309880797604462,0.015919912593276457,0.015319686056806489,0.014688766150802134,0.013781611915201875,0.013976717236574608,0.013897475795468288,0.013919323340479553,0.01362932361146544,0.01338544624354144,0.012564091479252956,0.012769895922882102,0.012638880126968528,0.012769711312950406,0.01250577168902173,0.012902686603961488,0.012720613894993378,0.012521691407946615,0.012513606622794899,0.011454281543956175,0.012017832637226443,0.011613073860346566,0.011020279814147696,0.011232522329143709,0.010402382718116792,0.010521884254722816],\"xaxis\":\"x\",\"y\":[2405.53516040785,2691.19565226261,2920.91754234186,3102.29685877712,3771.35951578288,4819.12555470987,5196.94037965932,5146.67107827084,5538.61646477184,5645.58139584233,5426.62428119306,5722.1681828083,6564.69631373665,8731.93736824381,10691.4465495259,11690.1134689407,13170.7849804675,16106.0604446695,18753.5849413816,16597.2084581361,16908.8479564876,18509.7402157541,17498.3539002594,18276.0095516546,18719.9881409371,16390.8821748507],\"yaxis\":\"y\",\"type\":\"scatter\"},{\"hovertemplate\":\"country=Slovenia\\u003cbr\\u003eCO2_Upop=%{x}\\u003cbr\\u003eGDP=%{y}\\u003cextra\\u003e\\u003c\\u002fextra\\u003e\",\"legendgroup\":\"Slovenia\",\"marker\":{\"color\":\"#FFA15A\",\"symbol\":\"circle\"},\"mode\":\"markers\",\"name\":\"Slovenia\",\"orientation\":\"v\",\"showlegend\":true,\"x\":[0.014364949127034,0.015180397529834595,0.015625860134759827,0.015430484141629492,0.01482167762304428,0.014405438952944102,0.015204217610679659,0.015304852921749521,0.015118788378160988,0.01532225873415399,0.01543936195804847,0.01568640098583346,0.015521599877988332,0.016450252959085917,0.014501898154208668,0.014625541023209421,0.014462718944735884,0.013842909394461958,0.013242230665183586,0.011873842629274631,0.011839828868216273],\"xaxis\":\"x\",\"y\":[10730.4510136379,10815.1110457688,10454.9656390657,11175.7710286265,11452.7831245082,10201.3035366727,10479.7596309273,11777.1556578814,14849.0372415032,17233.1385611279,18098.9085440003,19672.9655554146,23817.8867320201,27595.5999653992,24792.1279805504,23532.4808545468,25128.0150431304,22641.805122503,23503.2824850255,24247.1733184083,20890.1664304173],\"yaxis\":\"y\",\"type\":\"scatter\"},{\"hovertemplate\":\"country=Spain\\u003cbr\\u003eCO2_Upop=%{x}\\u003cbr\\u003eGDP=%{y}\\u003cextra\\u003e\\u003c\\u002fextra\\u003e\",\"legendgroup\":\"Spain\",\"marker\":{\"color\":\"#19d3f3\",\"symbol\":\"circle\"},\"mode\":\"markers\",\"name\":\"Spain\",\"orientation\":\"v\",\"showlegend\":true,\"x\":[0.007339475416257553,0.007546576472780437,0.00784843486666014,0.007319753423971529,0.007623236444572552,0.00798349653993162,0.007596612072354422,0.008163976446663382,0.008370295546337825,0.009045385293556028,0.009480754715322299,0.009452406062508597,0.009863292269461733,0.009837898565736044,0.010150253626044494,0.01039203430695632,0.009932813718347132,0.010087883675328506,0.009049552797081275,0.007946154020108957,0.007503331659178587,0.007490917059014873,0.007323704325683143,0.006608369222028503,0.0065594954862720715,0.006958186027621909],\"xaxis\":\"x\",\"y\":[13804.8767869937,14811.9028194881,16112.1889152156,13339.908563675,13415.2870010456,15471.962716535,16109.0843985284,14730.7971752046,15394.3514628249,15720.6405016061,14749.6874248766,15369.0011599444,17106.686576658,21510.8362454011,24907.0008505856,26429.1509449319,28389.0785799873,32591.3503065871,35510.7222312701,32169.5028548583,30532.4805081656,31677.9003083652,28322.9465923276,29077.1820557563,29513.6511800405,25754.36102944],\"yaxis\":\"y\",\"type\":\"scatter\"},{\"hovertemplate\":\"country=Sweden\\u003cbr\\u003eCO2_Upop=%{x}\\u003cbr\\u003eGDP=%{y}\\u003cextra\\u003e\\u003c\\u002fextra\\u003e\",\"legendgroup\":\"Sweden\",\"marker\":{\"color\":\"#FF6692\",\"symbol\":\"circle\"},\"mode\":\"markers\",\"name\":\"Sweden\",\"orientation\":\"v\",\"showlegend\":true,\"x\":[0.007500458354938816,0.007564336462435641,0.007853248372807004,0.0077601772078502015,0.007960977479458446,0.007870005147928266,0.008579163709666006,0.007727577754731259,0.007852814853495543,0.00769644309870509,0.007146662896428352,0.0070193662911090275,0.007194684661468789,0.007318915421605919,0.007072437811181629,0.006578005672709983,0.0063567233231637725,0.006080790489970004,0.005890398826407471,0.0054164320661209365,0.006015739170998785,0.005515208324674205,0.005152648528529825,0.004895419276811105,0.004662782071230444,0.004612409448388131],\"xaxis\":\"x\",\"y\":[30593.6724447761,31822.8038482367,32800.9826867546,24425.2849281118,26083.6143874838,30282.9639200066,32998.9681608432,30312.4875993103,30596.5272048832,30941.0793624668,29624.9126748618,27247.857734793,29899.1952495081,37321.7979047059,42821.6731423358,43437.0631164776,46593.6021646111,53700.0053363063,56152.552340314,46946.9602719954,52869.0442891587,60755.7595508465,58037.8213192173,61126.9431963979,60020.3604576572,51545.4836095322],\"yaxis\":\"y\",\"type\":\"scatter\"}],                        {\"template\":{\"data\":{\"histogram2dcontour\":[{\"type\":\"histogram2dcontour\",\"colorbar\":{\"outlinewidth\":0,\"ticks\":\"\"},\"colorscale\":[[0.0,\"#0d0887\"],[0.1111111111111111,\"#46039f\"],[0.2222222222222222,\"#7201a8\"],[0.3333333333333333,\"#9c179e\"],[0.4444444444444444,\"#bd3786\"],[0.5555555555555556,\"#d8576b\"],[0.6666666666666666,\"#ed7953\"],[0.7777777777777778,\"#fb9f3a\"],[0.8888888888888888,\"#fdca26\"],[1.0,\"#f0f921\"]]}],\"choropleth\":[{\"type\":\"choropleth\",\"colorbar\":{\"outlinewidth\":0,\"ticks\":\"\"}}],\"histogram2d\":[{\"type\":\"histogram2d\",\"colorbar\":{\"outlinewidth\":0,\"ticks\":\"\"},\"colorscale\":[[0.0,\"#0d0887\"],[0.1111111111111111,\"#46039f\"],[0.2222222222222222,\"#7201a8\"],[0.3333333333333333,\"#9c179e\"],[0.4444444444444444,\"#bd3786\"],[0.5555555555555556,\"#d8576b\"],[0.6666666666666666,\"#ed7953\"],[0.7777777777777778,\"#fb9f3a\"],[0.8888888888888888,\"#fdca26\"],[1.0,\"#f0f921\"]]}],\"heatmap\":[{\"type\":\"heatmap\",\"colorbar\":{\"outlinewidth\":0,\"ticks\":\"\"},\"colorscale\":[[0.0,\"#0d0887\"],[0.1111111111111111,\"#46039f\"],[0.2222222222222222,\"#7201a8\"],[0.3333333333333333,\"#9c179e\"],[0.4444444444444444,\"#bd3786\"],[0.5555555555555556,\"#d8576b\"],[0.6666666666666666,\"#ed7953\"],[0.7777777777777778,\"#fb9f3a\"],[0.8888888888888888,\"#fdca26\"],[1.0,\"#f0f921\"]]}],\"heatmapgl\":[{\"type\":\"heatmapgl\",\"colorbar\":{\"outlinewidth\":0,\"ticks\":\"\"},\"colorscale\":[[0.0,\"#0d0887\"],[0.1111111111111111,\"#46039f\"],[0.2222222222222222,\"#7201a8\"],[0.3333333333333333,\"#9c179e\"],[0.4444444444444444,\"#bd3786\"],[0.5555555555555556,\"#d8576b\"],[0.6666666666666666,\"#ed7953\"],[0.7777777777777778,\"#fb9f3a\"],[0.8888888888888888,\"#fdca26\"],[1.0,\"#f0f921\"]]}],\"contourcarpet\":[{\"type\":\"contourcarpet\",\"colorbar\":{\"outlinewidth\":0,\"ticks\":\"\"}}],\"contour\":[{\"type\":\"contour\",\"colorbar\":{\"outlinewidth\":0,\"ticks\":\"\"},\"colorscale\":[[0.0,\"#0d0887\"],[0.1111111111111111,\"#46039f\"],[0.2222222222222222,\"#7201a8\"],[0.3333333333333333,\"#9c179e\"],[0.4444444444444444,\"#bd3786\"],[0.5555555555555556,\"#d8576b\"],[0.6666666666666666,\"#ed7953\"],[0.7777777777777778,\"#fb9f3a\"],[0.8888888888888888,\"#fdca26\"],[1.0,\"#f0f921\"]]}],\"surface\":[{\"type\":\"surface\",\"colorbar\":{\"outlinewidth\":0,\"ticks\":\"\"},\"colorscale\":[[0.0,\"#0d0887\"],[0.1111111111111111,\"#46039f\"],[0.2222222222222222,\"#7201a8\"],[0.3333333333333333,\"#9c179e\"],[0.4444444444444444,\"#bd3786\"],[0.5555555555555556,\"#d8576b\"],[0.6666666666666666,\"#ed7953\"],[0.7777777777777778,\"#fb9f3a\"],[0.8888888888888888,\"#fdca26\"],[1.0,\"#f0f921\"]]}],\"mesh3d\":[{\"type\":\"mesh3d\",\"colorbar\":{\"outlinewidth\":0,\"ticks\":\"\"}}],\"scatter\":[{\"fillpattern\":{\"fillmode\":\"overlay\",\"size\":10,\"solidity\":0.2},\"type\":\"scatter\"}],\"parcoords\":[{\"type\":\"parcoords\",\"line\":{\"colorbar\":{\"outlinewidth\":0,\"ticks\":\"\"}}}],\"scatterpolargl\":[{\"type\":\"scatterpolargl\",\"marker\":{\"colorbar\":{\"outlinewidth\":0,\"ticks\":\"\"}}}],\"bar\":[{\"error_x\":{\"color\":\"#2a3f5f\"},\"error_y\":{\"color\":\"#2a3f5f\"},\"marker\":{\"line\":{\"color\":\"#E5ECF6\",\"width\":0.5},\"pattern\":{\"fillmode\":\"overlay\",\"size\":10,\"solidity\":0.2}},\"type\":\"bar\"}],\"scattergeo\":[{\"type\":\"scattergeo\",\"marker\":{\"colorbar\":{\"outlinewidth\":0,\"ticks\":\"\"}}}],\"scatterpolar\":[{\"type\":\"scatterpolar\",\"marker\":{\"colorbar\":{\"outlinewidth\":0,\"ticks\":\"\"}}}],\"histogram\":[{\"marker\":{\"pattern\":{\"fillmode\":\"overlay\",\"size\":10,\"solidity\":0.2}},\"type\":\"histogram\"}],\"scattergl\":[{\"type\":\"scattergl\",\"marker\":{\"colorbar\":{\"outlinewidth\":0,\"ticks\":\"\"}}}],\"scatter3d\":[{\"type\":\"scatter3d\",\"line\":{\"colorbar\":{\"outlinewidth\":0,\"ticks\":\"\"}},\"marker\":{\"colorbar\":{\"outlinewidth\":0,\"ticks\":\"\"}}}],\"scattermapbox\":[{\"type\":\"scattermapbox\",\"marker\":{\"colorbar\":{\"outlinewidth\":0,\"ticks\":\"\"}}}],\"scatterternary\":[{\"type\":\"scatterternary\",\"marker\":{\"colorbar\":{\"outlinewidth\":0,\"ticks\":\"\"}}}],\"scattercarpet\":[{\"type\":\"scattercarpet\",\"marker\":{\"colorbar\":{\"outlinewidth\":0,\"ticks\":\"\"}}}],\"carpet\":[{\"aaxis\":{\"endlinecolor\":\"#2a3f5f\",\"gridcolor\":\"white\",\"linecolor\":\"white\",\"minorgridcolor\":\"white\",\"startlinecolor\":\"#2a3f5f\"},\"baxis\":{\"endlinecolor\":\"#2a3f5f\",\"gridcolor\":\"white\",\"linecolor\":\"white\",\"minorgridcolor\":\"white\",\"startlinecolor\":\"#2a3f5f\"},\"type\":\"carpet\"}],\"table\":[{\"cells\":{\"fill\":{\"color\":\"#EBF0F8\"},\"line\":{\"color\":\"white\"}},\"header\":{\"fill\":{\"color\":\"#C8D4E3\"},\"line\":{\"color\":\"white\"}},\"type\":\"table\"}],\"barpolar\":[{\"marker\":{\"line\":{\"color\":\"#E5ECF6\",\"width\":0.5},\"pattern\":{\"fillmode\":\"overlay\",\"size\":10,\"solidity\":0.2}},\"type\":\"barpolar\"}],\"pie\":[{\"automargin\":true,\"type\":\"pie\"}]},\"layout\":{\"autotypenumbers\":\"strict\",\"colorway\":[\"#636efa\",\"#EF553B\",\"#00cc96\",\"#ab63fa\",\"#FFA15A\",\"#19d3f3\",\"#FF6692\",\"#B6E880\",\"#FF97FF\",\"#FECB52\"],\"font\":{\"color\":\"#2a3f5f\"},\"hovermode\":\"closest\",\"hoverlabel\":{\"align\":\"left\"},\"paper_bgcolor\":\"white\",\"plot_bgcolor\":\"#E5ECF6\",\"polar\":{\"bgcolor\":\"#E5ECF6\",\"angularaxis\":{\"gridcolor\":\"white\",\"linecolor\":\"white\",\"ticks\":\"\"},\"radialaxis\":{\"gridcolor\":\"white\",\"linecolor\":\"white\",\"ticks\":\"\"}},\"ternary\":{\"bgcolor\":\"#E5ECF6\",\"aaxis\":{\"gridcolor\":\"white\",\"linecolor\":\"white\",\"ticks\":\"\"},\"baxis\":{\"gridcolor\":\"white\",\"linecolor\":\"white\",\"ticks\":\"\"},\"caxis\":{\"gridcolor\":\"white\",\"linecolor\":\"white\",\"ticks\":\"\"}},\"coloraxis\":{\"colorbar\":{\"outlinewidth\":0,\"ticks\":\"\"}},\"colorscale\":{\"sequential\":[[0.0,\"#0d0887\"],[0.1111111111111111,\"#46039f\"],[0.2222222222222222,\"#7201a8\"],[0.3333333333333333,\"#9c179e\"],[0.4444444444444444,\"#bd3786\"],[0.5555555555555556,\"#d8576b\"],[0.6666666666666666,\"#ed7953\"],[0.7777777777777778,\"#fb9f3a\"],[0.8888888888888888,\"#fdca26\"],[1.0,\"#f0f921\"]],\"sequentialminus\":[[0.0,\"#0d0887\"],[0.1111111111111111,\"#46039f\"],[0.2222222222222222,\"#7201a8\"],[0.3333333333333333,\"#9c179e\"],[0.4444444444444444,\"#bd3786\"],[0.5555555555555556,\"#d8576b\"],[0.6666666666666666,\"#ed7953\"],[0.7777777777777778,\"#fb9f3a\"],[0.8888888888888888,\"#fdca26\"],[1.0,\"#f0f921\"]],\"diverging\":[[0,\"#8e0152\"],[0.1,\"#c51b7d\"],[0.2,\"#de77ae\"],[0.3,\"#f1b6da\"],[0.4,\"#fde0ef\"],[0.5,\"#f7f7f7\"],[0.6,\"#e6f5d0\"],[0.7,\"#b8e186\"],[0.8,\"#7fbc41\"],[0.9,\"#4d9221\"],[1,\"#276419\"]]},\"xaxis\":{\"gridcolor\":\"white\",\"linecolor\":\"white\",\"ticks\":\"\",\"title\":{\"standoff\":15},\"zerolinecolor\":\"white\",\"automargin\":true,\"zerolinewidth\":2},\"yaxis\":{\"gridcolor\":\"white\",\"linecolor\":\"white\",\"ticks\":\"\",\"title\":{\"standoff\":15},\"zerolinecolor\":\"white\",\"automargin\":true,\"zerolinewidth\":2},\"scene\":{\"xaxis\":{\"backgroundcolor\":\"#E5ECF6\",\"gridcolor\":\"white\",\"linecolor\":\"white\",\"showbackground\":true,\"ticks\":\"\",\"zerolinecolor\":\"white\",\"gridwidth\":2},\"yaxis\":{\"backgroundcolor\":\"#E5ECF6\",\"gridcolor\":\"white\",\"linecolor\":\"white\",\"showbackground\":true,\"ticks\":\"\",\"zerolinecolor\":\"white\",\"gridwidth\":2},\"zaxis\":{\"backgroundcolor\":\"#E5ECF6\",\"gridcolor\":\"white\",\"linecolor\":\"white\",\"showbackground\":true,\"ticks\":\"\",\"zerolinecolor\":\"white\",\"gridwidth\":2}},\"shapedefaults\":{\"line\":{\"color\":\"#2a3f5f\"}},\"annotationdefaults\":{\"arrowcolor\":\"#2a3f5f\",\"arrowhead\":0,\"arrowwidth\":1},\"geo\":{\"bgcolor\":\"white\",\"landcolor\":\"#E5ECF6\",\"subunitcolor\":\"white\",\"showland\":true,\"showlakes\":true,\"lakecolor\":\"white\"},\"title\":{\"x\":0.05},\"mapbox\":{\"style\":\"light\"}}},\"xaxis\":{\"anchor\":\"y\",\"domain\":[0.0,1.0],\"title\":{\"text\":\"CO2_Upop\"}},\"yaxis\":{\"anchor\":\"x\",\"domain\":[0.0,1.0],\"title\":{\"text\":\"GDP\"}},\"legend\":{\"title\":{\"text\":\"country\"},\"tracegroupgap\":0},\"margin\":{\"t\":60}},                        {\"responsive\": true}                    ).then(function(){\n",
       "                            \n",
       "var gd = document.getElementById('406ba1bb-79b1-469d-aa3c-a858eb6b0048');\n",
       "var x = new MutationObserver(function (mutations, observer) {{\n",
       "        var display = window.getComputedStyle(gd).display;\n",
       "        if (!display || display === 'none') {{\n",
       "            console.log([gd, 'removed!']);\n",
       "            Plotly.purge(gd);\n",
       "            observer.disconnect();\n",
       "        }}\n",
       "}});\n",
       "\n",
       "// Listen for the removal of the full notebook cells\n",
       "var notebookContainer = gd.closest('#notebook-container');\n",
       "if (notebookContainer) {{\n",
       "    x.observe(notebookContainer, {childList: true});\n",
       "}}\n",
       "\n",
       "// Listen for the clearing of the current output cell\n",
       "var outputEl = gd.closest('.output');\n",
       "if (outputEl) {{\n",
       "    x.observe(outputEl, {childList: true});\n",
       "}}\n",
       "\n",
       "                        })                };                });            </script>        </div>"
      ]
     },
     "metadata": {},
     "output_type": "display_data"
    }
   ],
   "source": [
    "px.scatter(gdp, x='CO2_Upop', y='GDP', color='country')"
   ]
  },
  {
   "cell_type": "markdown",
   "id": "95e8360f-6869-416a-9196-956b9e546e76",
   "metadata": {},
   "source": [
    "### Part 4: Interpreting Statistics (10 points)\n",
    "\n",
    "Based on the EDA from Part 3, answer each of the following questions with a (sufficiently detailed) bullet point:\n",
    "\n",
    "- Belgium's GDP in 2015 reached \\\\$41008.30 per capita, 75.87\\% of their energy came from fossil fuels, and they had .0086 CO$^2$ emissions per urban population; how does Belgium compare to the average values of these features over the timeframe of the data set? What conclusions might you draw about Belgium based on this?\n",
    "- Given the correlation between `CO2_Upop` and `GDP`, and nothing else, would you say these two features are related? Then, when considering the plot of `CO2_Upop` versus `GDP`, does your opinion change? What is one thing that is particularly interesting about the plot?"
   ]
  },
  {
   "cell_type": "markdown",
   "id": "86de29fa-8d05-40f5-b2de-78f71515f2dd",
   "metadata": {},
   "source": [
    "- Belgium has a relatively high GDP of $41008.30 compared to the average of this dataset ($23739). Belgium also has relatively low CO2 emissions per urban population of .0086 CO2 compared to the mean of the dataset (0.011528). Belgium has a relatively average 75.87% of their energy came from fossil fuels compared to the mean of 76.34%. This tells me that Belgium is a relatively wealthy country for Europe since its GDP is greater than the average European country and that it's more sustainable than the average European country since its CO2 emissions are lower. However, it relies on fossil fuels to a similar extent to other European countries. Overall, Belgium is a sustainable country, but it still has an average reliance on fossil fuels to produce is energy.\n",
    "- Given the correlation of 0.339518 between CO2_Upop and GDP, I would say that these features are slightly correlated, however, the plot shows a much higher correlation with some outliers that are likely skewing the correlation to be lower. One thing that is particularly France, Denmark, and Sweden all have higher GDP's than their Co2 emissions per urban population would suggest since their CO2_Upop is relatively low"
   ]
  },
  {
   "cell_type": "code",
   "execution_count": null,
   "id": "ac432931-9738-43bc-ab32-51281c03a868",
   "metadata": {},
   "outputs": [],
   "source": []
  }
 ],
 "metadata": {
  "kernelspec": {
   "display_name": "Python [conda env:base] *",
   "language": "python",
   "name": "conda-base-py"
  },
  "language_info": {
   "codemirror_mode": {
    "name": "ipython",
    "version": 3
   },
   "file_extension": ".py",
   "mimetype": "text/x-python",
   "name": "python",
   "nbconvert_exporter": "python",
   "pygments_lexer": "ipython3",
   "version": "3.12.7"
  }
 },
 "nbformat": 4,
 "nbformat_minor": 5
}
